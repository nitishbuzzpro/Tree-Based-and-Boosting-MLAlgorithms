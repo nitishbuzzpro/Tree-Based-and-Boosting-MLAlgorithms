{
 "cells": [
  {
   "cell_type": "markdown",
   "metadata": {},
   "source": [
    "# Tree Based and Boosting MLAlgorithms"
   ]
  },
  {
   "cell_type": "markdown",
   "metadata": {},
   "source": [
    "## Objective : To predict the survival status  of passengers based on other features."
   ]
  },
  {
   "cell_type": "markdown",
   "metadata": {
    "execution": {
     "iopub.execute_input": "2024-09-05T11:17:32.370746Z",
     "iopub.status.busy": "2024-09-05T11:17:32.370091Z",
     "iopub.status.idle": "2024-09-05T11:17:32.377437Z",
     "shell.execute_reply": "2024-09-05T11:17:32.376160Z",
     "shell.execute_reply.started": "2024-09-05T11:17:32.370704Z"
    }
   },
   "source": [
    "## Task 1\n",
    "Import the required libraries:\n",
    "\n",
    "Import Pandas and alias it as pd.\n",
    "\n",
    "Import NumPy and alias it as np.\n",
    "\n",
    "Import Scikit-learn and alias it as sklearn."
   ]
  },
  {
   "cell_type": "code",
   "execution_count": 71,
   "metadata": {
    "_cell_guid": "b1076dfc-b9ad-4769-8c92-a6c4dae69d19",
    "_uuid": "8f2839f25d086af736a60e9eeb907d3b93b6e0e5",
    "execution": {
     "iopub.execute_input": "2024-09-23T08:06:10.237162Z",
     "iopub.status.busy": "2024-09-23T08:06:10.236776Z",
     "iopub.status.idle": "2024-09-23T08:06:10.245744Z",
     "shell.execute_reply": "2024-09-23T08:06:10.244725Z",
     "shell.execute_reply.started": "2024-09-23T08:06:10.237126Z"
    }
   },
   "outputs": [],
   "source": [
    "import pandas as pd\n",
    "import numpy as np\n",
    "import sklearn\n",
    "from sklearn.linear_model import LogisticRegression\n",
    "import seaborn as sns\n",
    "import matplotlib.pyplot as plt\n",
    "from sklearn.feature_selection import RFE\n",
    "from sklearn.model_selection import StratifiedKFold\n",
    "from sklearn.model_selection import train_test_split\n",
    "from sklearn.model_selection import cross_val_predict\n",
    "from sklearn.metrics import classification_report\n",
    "from sklearn.model_selection import GridSearchCV, RandomizedSearchCV\n",
    "from sklearn.tree import DecisionTreeClassifier\n",
    "from imblearn.over_sampling import RandomOverSampler, SMOTE\n",
    "from imblearn.under_sampling import RandomUnderSampler, EditedNearestNeighbours\n",
    "import pickle\n",
    "from sklearn.ensemble import RandomForestClassifier\n",
    "from sklearn.feature_selection import RFECV\n",
    "from sklearn.model_selection import cross_val_score\n",
    "import matplotlib.pyplot as plt\n",
    "from sklearn.ensemble import BaggingClassifier\n",
    "from sklearn.ensemble import AdaBoostClassifier\n",
    "import xgboost as xgb\n",
    "from sklearn.ensemble import StackingClassifier\n",
    "from sklearn.svm import SVC"
   ]
  },
  {
   "cell_type": "markdown",
   "metadata": {
    "execution": {
     "iopub.execute_input": "2024-09-10T09:23:54.920459Z",
     "iopub.status.busy": "2024-09-10T09:23:54.919895Z",
     "iopub.status.idle": "2024-09-10T09:23:54.928430Z",
     "shell.execute_reply": "2024-09-10T09:23:54.926190Z",
     "shell.execute_reply.started": "2024-09-10T09:23:54.920414Z"
    }
   },
   "source": [
    "Load the Titanic dataset:\n",
    "Load the 'titanic.csv' file using the Pandas library\n",
    "and assign it to a variable named 'data'."
   ]
  },
  {
   "cell_type": "code",
   "execution_count": 72,
   "metadata": {
    "execution": {
     "iopub.execute_input": "2024-09-23T08:06:10.250870Z",
     "iopub.status.busy": "2024-09-23T08:06:10.250510Z",
     "iopub.status.idle": "2024-09-23T08:06:10.558533Z",
     "shell.execute_reply": "2024-09-23T08:06:10.557187Z",
     "shell.execute_reply.started": "2024-09-23T08:06:10.250832Z"
    }
   },
   "outputs": [
    {
     "data": {
      "text/html": [
       "<div>\n",
       "<style scoped>\n",
       "    .dataframe tbody tr th:only-of-type {\n",
       "        vertical-align: middle;\n",
       "    }\n",
       "\n",
       "    .dataframe tbody tr th {\n",
       "        vertical-align: top;\n",
       "    }\n",
       "\n",
       "    .dataframe thead th {\n",
       "        text-align: right;\n",
       "    }\n",
       "</style>\n",
       "<table border=\"1\" class=\"dataframe\">\n",
       "  <thead>\n",
       "    <tr style=\"text-align: right;\">\n",
       "      <th></th>\n",
       "      <th>PassengerId</th>\n",
       "      <th>Survived</th>\n",
       "      <th>Pclass</th>\n",
       "      <th>Name</th>\n",
       "      <th>Sex</th>\n",
       "      <th>Age</th>\n",
       "      <th>SibSp</th>\n",
       "      <th>Parch</th>\n",
       "      <th>Ticket</th>\n",
       "      <th>Fare</th>\n",
       "      <th>Cabin</th>\n",
       "      <th>Embarked</th>\n",
       "    </tr>\n",
       "  </thead>\n",
       "  <tbody>\n",
       "    <tr>\n",
       "      <th>0</th>\n",
       "      <td>1</td>\n",
       "      <td>0</td>\n",
       "      <td>3</td>\n",
       "      <td>Braund, Mr. Owen Harris</td>\n",
       "      <td>male</td>\n",
       "      <td>22.0</td>\n",
       "      <td>1</td>\n",
       "      <td>0</td>\n",
       "      <td>A/5 21171</td>\n",
       "      <td>7.2500</td>\n",
       "      <td>NaN</td>\n",
       "      <td>S</td>\n",
       "    </tr>\n",
       "    <tr>\n",
       "      <th>1</th>\n",
       "      <td>2</td>\n",
       "      <td>1</td>\n",
       "      <td>1</td>\n",
       "      <td>Cumings, Mrs. John Bradley (Florence Briggs Th...</td>\n",
       "      <td>female</td>\n",
       "      <td>38.0</td>\n",
       "      <td>1</td>\n",
       "      <td>0</td>\n",
       "      <td>PC 17599</td>\n",
       "      <td>71.2833</td>\n",
       "      <td>C85</td>\n",
       "      <td>C</td>\n",
       "    </tr>\n",
       "    <tr>\n",
       "      <th>2</th>\n",
       "      <td>3</td>\n",
       "      <td>1</td>\n",
       "      <td>3</td>\n",
       "      <td>Heikkinen, Miss. Laina</td>\n",
       "      <td>female</td>\n",
       "      <td>26.0</td>\n",
       "      <td>0</td>\n",
       "      <td>0</td>\n",
       "      <td>STON/O2. 3101282</td>\n",
       "      <td>7.9250</td>\n",
       "      <td>NaN</td>\n",
       "      <td>S</td>\n",
       "    </tr>\n",
       "    <tr>\n",
       "      <th>3</th>\n",
       "      <td>4</td>\n",
       "      <td>1</td>\n",
       "      <td>1</td>\n",
       "      <td>Futrelle, Mrs. Jacques Heath (Lily May Peel)</td>\n",
       "      <td>female</td>\n",
       "      <td>35.0</td>\n",
       "      <td>1</td>\n",
       "      <td>0</td>\n",
       "      <td>113803</td>\n",
       "      <td>53.1000</td>\n",
       "      <td>C123</td>\n",
       "      <td>S</td>\n",
       "    </tr>\n",
       "    <tr>\n",
       "      <th>4</th>\n",
       "      <td>5</td>\n",
       "      <td>0</td>\n",
       "      <td>3</td>\n",
       "      <td>Allen, Mr. William Henry</td>\n",
       "      <td>male</td>\n",
       "      <td>35.0</td>\n",
       "      <td>0</td>\n",
       "      <td>0</td>\n",
       "      <td>373450</td>\n",
       "      <td>8.0500</td>\n",
       "      <td>NaN</td>\n",
       "      <td>S</td>\n",
       "    </tr>\n",
       "  </tbody>\n",
       "</table>\n",
       "</div>"
      ],
      "text/plain": [
       "   PassengerId  Survived  Pclass  \\\n",
       "0            1         0       3   \n",
       "1            2         1       1   \n",
       "2            3         1       3   \n",
       "3            4         1       1   \n",
       "4            5         0       3   \n",
       "\n",
       "                                                Name     Sex   Age  SibSp  \\\n",
       "0                            Braund, Mr. Owen Harris    male  22.0      1   \n",
       "1  Cumings, Mrs. John Bradley (Florence Briggs Th...  female  38.0      1   \n",
       "2                             Heikkinen, Miss. Laina  female  26.0      0   \n",
       "3       Futrelle, Mrs. Jacques Heath (Lily May Peel)  female  35.0      1   \n",
       "4                           Allen, Mr. William Henry    male  35.0      0   \n",
       "\n",
       "   Parch            Ticket     Fare Cabin Embarked  \n",
       "0      0         A/5 21171   7.2500   NaN        S  \n",
       "1      0          PC 17599  71.2833   C85        C  \n",
       "2      0  STON/O2. 3101282   7.9250   NaN        S  \n",
       "3      0            113803  53.1000  C123        S  \n",
       "4      0            373450   8.0500   NaN        S  "
      ]
     },
     "execution_count": 72,
     "metadata": {},
     "output_type": "execute_result"
    }
   ],
   "source": [
    "df = pd.read_excel('/kaggle/input/train-xlsx-62-56-kb/train.xlsx')\n",
    "df.head()"
   ]
  },
  {
   "cell_type": "code",
   "execution_count": 73,
   "metadata": {
    "execution": {
     "iopub.execute_input": "2024-09-23T08:06:10.561107Z",
     "iopub.status.busy": "2024-09-23T08:06:10.560648Z",
     "iopub.status.idle": "2024-09-23T08:06:10.575199Z",
     "shell.execute_reply": "2024-09-23T08:06:10.574005Z",
     "shell.execute_reply.started": "2024-09-23T08:06:10.561055Z"
    }
   },
   "outputs": [
    {
     "name": "stdout",
     "output_type": "stream",
     "text": [
      "<class 'pandas.core.frame.DataFrame'>\n",
      "RangeIndex: 891 entries, 0 to 890\n",
      "Data columns (total 12 columns):\n",
      " #   Column       Non-Null Count  Dtype  \n",
      "---  ------       --------------  -----  \n",
      " 0   PassengerId  891 non-null    int64  \n",
      " 1   Survived     891 non-null    int64  \n",
      " 2   Pclass       891 non-null    int64  \n",
      " 3   Name         891 non-null    object \n",
      " 4   Sex          891 non-null    object \n",
      " 5   Age          714 non-null    float64\n",
      " 6   SibSp        891 non-null    int64  \n",
      " 7   Parch        891 non-null    int64  \n",
      " 8   Ticket       891 non-null    object \n",
      " 9   Fare         891 non-null    float64\n",
      " 10  Cabin        204 non-null    object \n",
      " 11  Embarked     889 non-null    object \n",
      "dtypes: float64(2), int64(5), object(5)\n",
      "memory usage: 83.7+ KB\n"
     ]
    }
   ],
   "source": [
    "df.info()"
   ]
  },
  {
   "cell_type": "code",
   "execution_count": 74,
   "metadata": {
    "execution": {
     "iopub.execute_input": "2024-09-23T08:06:10.577065Z",
     "iopub.status.busy": "2024-09-23T08:06:10.576722Z",
     "iopub.status.idle": "2024-09-23T08:06:10.587407Z",
     "shell.execute_reply": "2024-09-23T08:06:10.586293Z",
     "shell.execute_reply.started": "2024-09-23T08:06:10.577028Z"
    }
   },
   "outputs": [
    {
     "data": {
      "text/plain": [
       "PassengerId      0\n",
       "Survived         0\n",
       "Pclass           0\n",
       "Name             0\n",
       "Sex              0\n",
       "Age            177\n",
       "SibSp            0\n",
       "Parch            0\n",
       "Ticket           0\n",
       "Fare             0\n",
       "Cabin          687\n",
       "Embarked         2\n",
       "dtype: int64"
      ]
     },
     "execution_count": 74,
     "metadata": {},
     "output_type": "execute_result"
    }
   ],
   "source": [
    "df.isnull().sum()"
   ]
  },
  {
   "cell_type": "code",
   "execution_count": null,
   "metadata": {},
   "outputs": [],
   "source": []
  },
  {
   "cell_type": "markdown",
   "metadata": {
    "execution": {
     "iopub.execute_input": "2024-09-05T11:18:30.394749Z",
     "iopub.status.busy": "2024-09-05T11:18:30.393925Z",
     "iopub.status.idle": "2024-09-05T11:18:30.399641Z",
     "shell.execute_reply": "2024-09-05T11:18:30.398442Z",
     "shell.execute_reply.started": "2024-09-05T11:18:30.394704Z"
    }
   },
   "source": [
    "## Task 2\n",
    "\n",
    "Load the Titanic dataset:\n",
    "\n",
    "Load the 'titanic.csv' file using the Pandas library and assign it to a variable named 'data'."
   ]
  },
  {
   "cell_type": "code",
   "execution_count": 75,
   "metadata": {
    "execution": {
     "iopub.execute_input": "2024-09-23T08:06:10.590341Z",
     "iopub.status.busy": "2024-09-23T08:06:10.589949Z",
     "iopub.status.idle": "2024-09-23T08:06:10.858596Z",
     "shell.execute_reply": "2024-09-23T08:06:10.857452Z",
     "shell.execute_reply.started": "2024-09-23T08:06:10.590303Z"
    }
   },
   "outputs": [
    {
     "data": {
      "text/html": [
       "<div>\n",
       "<style scoped>\n",
       "    .dataframe tbody tr th:only-of-type {\n",
       "        vertical-align: middle;\n",
       "    }\n",
       "\n",
       "    .dataframe tbody tr th {\n",
       "        vertical-align: top;\n",
       "    }\n",
       "\n",
       "    .dataframe thead th {\n",
       "        text-align: right;\n",
       "    }\n",
       "</style>\n",
       "<table border=\"1\" class=\"dataframe\">\n",
       "  <thead>\n",
       "    <tr style=\"text-align: right;\">\n",
       "      <th></th>\n",
       "      <th>PassengerId</th>\n",
       "      <th>Survived</th>\n",
       "      <th>Pclass</th>\n",
       "      <th>Name</th>\n",
       "      <th>Sex</th>\n",
       "      <th>Age</th>\n",
       "      <th>SibSp</th>\n",
       "      <th>Parch</th>\n",
       "      <th>Ticket</th>\n",
       "      <th>Fare</th>\n",
       "      <th>Cabin</th>\n",
       "      <th>Embarked</th>\n",
       "    </tr>\n",
       "  </thead>\n",
       "  <tbody>\n",
       "    <tr>\n",
       "      <th>0</th>\n",
       "      <td>1</td>\n",
       "      <td>0</td>\n",
       "      <td>3</td>\n",
       "      <td>Braund, Mr. Owen Harris</td>\n",
       "      <td>male</td>\n",
       "      <td>22.0</td>\n",
       "      <td>1</td>\n",
       "      <td>0</td>\n",
       "      <td>A/5 21171</td>\n",
       "      <td>7.2500</td>\n",
       "      <td>NaN</td>\n",
       "      <td>S</td>\n",
       "    </tr>\n",
       "    <tr>\n",
       "      <th>1</th>\n",
       "      <td>2</td>\n",
       "      <td>1</td>\n",
       "      <td>1</td>\n",
       "      <td>Cumings, Mrs. John Bradley (Florence Briggs Th...</td>\n",
       "      <td>female</td>\n",
       "      <td>38.0</td>\n",
       "      <td>1</td>\n",
       "      <td>0</td>\n",
       "      <td>PC 17599</td>\n",
       "      <td>71.2833</td>\n",
       "      <td>C85</td>\n",
       "      <td>C</td>\n",
       "    </tr>\n",
       "    <tr>\n",
       "      <th>2</th>\n",
       "      <td>3</td>\n",
       "      <td>1</td>\n",
       "      <td>3</td>\n",
       "      <td>Heikkinen, Miss. Laina</td>\n",
       "      <td>female</td>\n",
       "      <td>26.0</td>\n",
       "      <td>0</td>\n",
       "      <td>0</td>\n",
       "      <td>STON/O2. 3101282</td>\n",
       "      <td>7.9250</td>\n",
       "      <td>NaN</td>\n",
       "      <td>S</td>\n",
       "    </tr>\n",
       "    <tr>\n",
       "      <th>3</th>\n",
       "      <td>4</td>\n",
       "      <td>1</td>\n",
       "      <td>1</td>\n",
       "      <td>Futrelle, Mrs. Jacques Heath (Lily May Peel)</td>\n",
       "      <td>female</td>\n",
       "      <td>35.0</td>\n",
       "      <td>1</td>\n",
       "      <td>0</td>\n",
       "      <td>113803</td>\n",
       "      <td>53.1000</td>\n",
       "      <td>C123</td>\n",
       "      <td>S</td>\n",
       "    </tr>\n",
       "    <tr>\n",
       "      <th>4</th>\n",
       "      <td>5</td>\n",
       "      <td>0</td>\n",
       "      <td>3</td>\n",
       "      <td>Allen, Mr. William Henry</td>\n",
       "      <td>male</td>\n",
       "      <td>35.0</td>\n",
       "      <td>0</td>\n",
       "      <td>0</td>\n",
       "      <td>373450</td>\n",
       "      <td>8.0500</td>\n",
       "      <td>NaN</td>\n",
       "      <td>S</td>\n",
       "    </tr>\n",
       "  </tbody>\n",
       "</table>\n",
       "</div>"
      ],
      "text/plain": [
       "   PassengerId  Survived  Pclass  \\\n",
       "0            1         0       3   \n",
       "1            2         1       1   \n",
       "2            3         1       3   \n",
       "3            4         1       1   \n",
       "4            5         0       3   \n",
       "\n",
       "                                                Name     Sex   Age  SibSp  \\\n",
       "0                            Braund, Mr. Owen Harris    male  22.0      1   \n",
       "1  Cumings, Mrs. John Bradley (Florence Briggs Th...  female  38.0      1   \n",
       "2                             Heikkinen, Miss. Laina  female  26.0      0   \n",
       "3       Futrelle, Mrs. Jacques Heath (Lily May Peel)  female  35.0      1   \n",
       "4                           Allen, Mr. William Henry    male  35.0      0   \n",
       "\n",
       "   Parch            Ticket     Fare Cabin Embarked  \n",
       "0      0         A/5 21171   7.2500   NaN        S  \n",
       "1      0          PC 17599  71.2833   C85        C  \n",
       "2      0  STON/O2. 3101282   7.9250   NaN        S  \n",
       "3      0            113803  53.1000  C123        S  \n",
       "4      0            373450   8.0500   NaN        S  "
      ]
     },
     "execution_count": 75,
     "metadata": {},
     "output_type": "execute_result"
    }
   ],
   "source": [
    "data = pd.read_excel('/kaggle/input/train-xlsx-62-56-kb/train.xlsx')\n",
    "data.head()"
   ]
  },
  {
   "cell_type": "code",
   "execution_count": null,
   "metadata": {},
   "outputs": [],
   "source": []
  },
  {
   "cell_type": "markdown",
   "metadata": {
    "execution": {
     "iopub.execute_input": "2024-09-05T11:20:05.296427Z",
     "iopub.status.busy": "2024-09-05T11:20:05.296009Z",
     "iopub.status.idle": "2024-09-05T11:20:05.304230Z",
     "shell.execute_reply": "2024-09-05T11:20:05.302977Z",
     "shell.execute_reply.started": "2024-09-05T11:20:05.296385Z"
    }
   },
   "source": [
    "## Task 3\n",
    "\n",
    "Data preprocessing:\n",
    "    \n",
    "Handle missing values by imputing the mean agefor the 'Age' column and the most frequent valuefor the 'Embarked' column.\n",
    "\n",
    "Check out for the Outliers and If present, treat them by using the concept of Winsorization.\n",
    "\n",
    "Drop the 'Cabin' column from the dataset.Convert categorical variables (e.g., 'Sex','Embarked') into numerical variables usingappropriate techniques (e.g., one-hot encoding,label encoding).\n",
    "\n",
    "Split the dataset into features (X) and target (y) variables."
   ]
  },
  {
   "cell_type": "code",
   "execution_count": 76,
   "metadata": {
    "execution": {
     "iopub.execute_input": "2024-09-23T08:06:10.860409Z",
     "iopub.status.busy": "2024-09-23T08:06:10.859963Z",
     "iopub.status.idle": "2024-09-23T08:06:10.868819Z",
     "shell.execute_reply": "2024-09-23T08:06:10.867678Z",
     "shell.execute_reply.started": "2024-09-23T08:06:10.860367Z"
    }
   },
   "outputs": [],
   "source": [
    "# Handle missing values by imputing the mean age for the 'Age' column and the most frequent value for the 'Embarked' column.\n",
    "df['Age'] = df['Age'].fillna(df['Age'].mean()) \n",
    "df['Embarked'] = df['Embarked'].fillna(df['Embarked'].mode()[0])"
   ]
  },
  {
   "cell_type": "code",
   "execution_count": 77,
   "metadata": {
    "execution": {
     "iopub.execute_input": "2024-09-23T08:06:10.870805Z",
     "iopub.status.busy": "2024-09-23T08:06:10.870435Z",
     "iopub.status.idle": "2024-09-23T08:06:10.884674Z",
     "shell.execute_reply": "2024-09-23T08:06:10.883542Z",
     "shell.execute_reply.started": "2024-09-23T08:06:10.870768Z"
    }
   },
   "outputs": [],
   "source": [
    "# Check out for the Outliers and If present, treat them by using the concept of Winsorization.\n",
    "\n",
    "for col in df[['Age','Fare']].columns:\n",
    "    first_quartile = df[col].quantile(0.25)\n",
    "    third_quartile = df[col].quantile(0.75)\n",
    "    iqr = third_quartile - first_quartile\n",
    "    lower_bound = first_quartile - 1.5 * iqr\n",
    "    upper_bound = third_quartile + 1.5 * iqr\n",
    "    # Applying Winsorization\n",
    "    df[col] = df[col].apply(lambda value: lower_bound if value < lower_bound else upper_bound if value > upper_bound else value)"
   ]
  },
  {
   "cell_type": "code",
   "execution_count": 78,
   "metadata": {
    "execution": {
     "iopub.execute_input": "2024-09-23T08:06:10.886208Z",
     "iopub.status.busy": "2024-09-23T08:06:10.885887Z",
     "iopub.status.idle": "2024-09-23T08:06:10.904851Z",
     "shell.execute_reply": "2024-09-23T08:06:10.903555Z",
     "shell.execute_reply.started": "2024-09-23T08:06:10.886174Z"
    }
   },
   "outputs": [
    {
     "data": {
      "text/html": [
       "<div>\n",
       "<style scoped>\n",
       "    .dataframe tbody tr th:only-of-type {\n",
       "        vertical-align: middle;\n",
       "    }\n",
       "\n",
       "    .dataframe tbody tr th {\n",
       "        vertical-align: top;\n",
       "    }\n",
       "\n",
       "    .dataframe thead th {\n",
       "        text-align: right;\n",
       "    }\n",
       "</style>\n",
       "<table border=\"1\" class=\"dataframe\">\n",
       "  <thead>\n",
       "    <tr style=\"text-align: right;\">\n",
       "      <th></th>\n",
       "      <th>PassengerId</th>\n",
       "      <th>Survived</th>\n",
       "      <th>Pclass</th>\n",
       "      <th>Name</th>\n",
       "      <th>Sex</th>\n",
       "      <th>Age</th>\n",
       "      <th>SibSp</th>\n",
       "      <th>Parch</th>\n",
       "      <th>Ticket</th>\n",
       "      <th>Fare</th>\n",
       "      <th>Embarked</th>\n",
       "    </tr>\n",
       "  </thead>\n",
       "  <tbody>\n",
       "    <tr>\n",
       "      <th>0</th>\n",
       "      <td>1</td>\n",
       "      <td>0</td>\n",
       "      <td>3</td>\n",
       "      <td>Braund, Mr. Owen Harris</td>\n",
       "      <td>male</td>\n",
       "      <td>22.0</td>\n",
       "      <td>1</td>\n",
       "      <td>0</td>\n",
       "      <td>A/5 21171</td>\n",
       "      <td>7.2500</td>\n",
       "      <td>S</td>\n",
       "    </tr>\n",
       "    <tr>\n",
       "      <th>1</th>\n",
       "      <td>2</td>\n",
       "      <td>1</td>\n",
       "      <td>1</td>\n",
       "      <td>Cumings, Mrs. John Bradley (Florence Briggs Th...</td>\n",
       "      <td>female</td>\n",
       "      <td>38.0</td>\n",
       "      <td>1</td>\n",
       "      <td>0</td>\n",
       "      <td>PC 17599</td>\n",
       "      <td>65.6344</td>\n",
       "      <td>C</td>\n",
       "    </tr>\n",
       "    <tr>\n",
       "      <th>2</th>\n",
       "      <td>3</td>\n",
       "      <td>1</td>\n",
       "      <td>3</td>\n",
       "      <td>Heikkinen, Miss. Laina</td>\n",
       "      <td>female</td>\n",
       "      <td>26.0</td>\n",
       "      <td>0</td>\n",
       "      <td>0</td>\n",
       "      <td>STON/O2. 3101282</td>\n",
       "      <td>7.9250</td>\n",
       "      <td>S</td>\n",
       "    </tr>\n",
       "    <tr>\n",
       "      <th>3</th>\n",
       "      <td>4</td>\n",
       "      <td>1</td>\n",
       "      <td>1</td>\n",
       "      <td>Futrelle, Mrs. Jacques Heath (Lily May Peel)</td>\n",
       "      <td>female</td>\n",
       "      <td>35.0</td>\n",
       "      <td>1</td>\n",
       "      <td>0</td>\n",
       "      <td>113803</td>\n",
       "      <td>53.1000</td>\n",
       "      <td>S</td>\n",
       "    </tr>\n",
       "    <tr>\n",
       "      <th>4</th>\n",
       "      <td>5</td>\n",
       "      <td>0</td>\n",
       "      <td>3</td>\n",
       "      <td>Allen, Mr. William Henry</td>\n",
       "      <td>male</td>\n",
       "      <td>35.0</td>\n",
       "      <td>0</td>\n",
       "      <td>0</td>\n",
       "      <td>373450</td>\n",
       "      <td>8.0500</td>\n",
       "      <td>S</td>\n",
       "    </tr>\n",
       "  </tbody>\n",
       "</table>\n",
       "</div>"
      ],
      "text/plain": [
       "   PassengerId  Survived  Pclass  \\\n",
       "0            1         0       3   \n",
       "1            2         1       1   \n",
       "2            3         1       3   \n",
       "3            4         1       1   \n",
       "4            5         0       3   \n",
       "\n",
       "                                                Name     Sex   Age  SibSp  \\\n",
       "0                            Braund, Mr. Owen Harris    male  22.0      1   \n",
       "1  Cumings, Mrs. John Bradley (Florence Briggs Th...  female  38.0      1   \n",
       "2                             Heikkinen, Miss. Laina  female  26.0      0   \n",
       "3       Futrelle, Mrs. Jacques Heath (Lily May Peel)  female  35.0      1   \n",
       "4                           Allen, Mr. William Henry    male  35.0      0   \n",
       "\n",
       "   Parch            Ticket     Fare Embarked  \n",
       "0      0         A/5 21171   7.2500        S  \n",
       "1      0          PC 17599  65.6344        C  \n",
       "2      0  STON/O2. 3101282   7.9250        S  \n",
       "3      0            113803  53.1000        S  \n",
       "4      0            373450   8.0500        S  "
      ]
     },
     "execution_count": 78,
     "metadata": {},
     "output_type": "execute_result"
    }
   ],
   "source": [
    "#Drop the 'Cabin' column from the dataset.\n",
    "df = df.drop(columns=['Cabin'])\n",
    "df.head()"
   ]
  },
  {
   "cell_type": "code",
   "execution_count": 79,
   "metadata": {
    "execution": {
     "iopub.execute_input": "2024-09-23T08:06:10.907112Z",
     "iopub.status.busy": "2024-09-23T08:06:10.906366Z",
     "iopub.status.idle": "2024-09-23T08:06:10.936846Z",
     "shell.execute_reply": "2024-09-23T08:06:10.935455Z",
     "shell.execute_reply.started": "2024-09-23T08:06:10.907058Z"
    }
   },
   "outputs": [
    {
     "data": {
      "text/html": [
       "<div>\n",
       "<style scoped>\n",
       "    .dataframe tbody tr th:only-of-type {\n",
       "        vertical-align: middle;\n",
       "    }\n",
       "\n",
       "    .dataframe tbody tr th {\n",
       "        vertical-align: top;\n",
       "    }\n",
       "\n",
       "    .dataframe thead th {\n",
       "        text-align: right;\n",
       "    }\n",
       "</style>\n",
       "<table border=\"1\" class=\"dataframe\">\n",
       "  <thead>\n",
       "    <tr style=\"text-align: right;\">\n",
       "      <th></th>\n",
       "      <th>PassengerId</th>\n",
       "      <th>Survived</th>\n",
       "      <th>Pclass</th>\n",
       "      <th>Name</th>\n",
       "      <th>Sex</th>\n",
       "      <th>Age</th>\n",
       "      <th>SibSp</th>\n",
       "      <th>Parch</th>\n",
       "      <th>Ticket</th>\n",
       "      <th>Fare</th>\n",
       "      <th>Embarked</th>\n",
       "      <th>Sex_male</th>\n",
       "      <th>Embarked_Q</th>\n",
       "      <th>Embarked_S</th>\n",
       "    </tr>\n",
       "  </thead>\n",
       "  <tbody>\n",
       "    <tr>\n",
       "      <th>0</th>\n",
       "      <td>1</td>\n",
       "      <td>0</td>\n",
       "      <td>3</td>\n",
       "      <td>Braund, Mr. Owen Harris</td>\n",
       "      <td>male</td>\n",
       "      <td>22.0</td>\n",
       "      <td>1</td>\n",
       "      <td>0</td>\n",
       "      <td>A/5 21171</td>\n",
       "      <td>7.2500</td>\n",
       "      <td>S</td>\n",
       "      <td>1.0</td>\n",
       "      <td>0.0</td>\n",
       "      <td>1.0</td>\n",
       "    </tr>\n",
       "    <tr>\n",
       "      <th>1</th>\n",
       "      <td>2</td>\n",
       "      <td>1</td>\n",
       "      <td>1</td>\n",
       "      <td>Cumings, Mrs. John Bradley (Florence Briggs Th...</td>\n",
       "      <td>female</td>\n",
       "      <td>38.0</td>\n",
       "      <td>1</td>\n",
       "      <td>0</td>\n",
       "      <td>PC 17599</td>\n",
       "      <td>65.6344</td>\n",
       "      <td>C</td>\n",
       "      <td>0.0</td>\n",
       "      <td>0.0</td>\n",
       "      <td>0.0</td>\n",
       "    </tr>\n",
       "    <tr>\n",
       "      <th>2</th>\n",
       "      <td>3</td>\n",
       "      <td>1</td>\n",
       "      <td>3</td>\n",
       "      <td>Heikkinen, Miss. Laina</td>\n",
       "      <td>female</td>\n",
       "      <td>26.0</td>\n",
       "      <td>0</td>\n",
       "      <td>0</td>\n",
       "      <td>STON/O2. 3101282</td>\n",
       "      <td>7.9250</td>\n",
       "      <td>S</td>\n",
       "      <td>0.0</td>\n",
       "      <td>0.0</td>\n",
       "      <td>1.0</td>\n",
       "    </tr>\n",
       "    <tr>\n",
       "      <th>3</th>\n",
       "      <td>4</td>\n",
       "      <td>1</td>\n",
       "      <td>1</td>\n",
       "      <td>Futrelle, Mrs. Jacques Heath (Lily May Peel)</td>\n",
       "      <td>female</td>\n",
       "      <td>35.0</td>\n",
       "      <td>1</td>\n",
       "      <td>0</td>\n",
       "      <td>113803</td>\n",
       "      <td>53.1000</td>\n",
       "      <td>S</td>\n",
       "      <td>0.0</td>\n",
       "      <td>0.0</td>\n",
       "      <td>1.0</td>\n",
       "    </tr>\n",
       "    <tr>\n",
       "      <th>4</th>\n",
       "      <td>5</td>\n",
       "      <td>0</td>\n",
       "      <td>3</td>\n",
       "      <td>Allen, Mr. William Henry</td>\n",
       "      <td>male</td>\n",
       "      <td>35.0</td>\n",
       "      <td>0</td>\n",
       "      <td>0</td>\n",
       "      <td>373450</td>\n",
       "      <td>8.0500</td>\n",
       "      <td>S</td>\n",
       "      <td>1.0</td>\n",
       "      <td>0.0</td>\n",
       "      <td>1.0</td>\n",
       "    </tr>\n",
       "  </tbody>\n",
       "</table>\n",
       "</div>"
      ],
      "text/plain": [
       "   PassengerId  Survived  Pclass  \\\n",
       "0            1         0       3   \n",
       "1            2         1       1   \n",
       "2            3         1       3   \n",
       "3            4         1       1   \n",
       "4            5         0       3   \n",
       "\n",
       "                                                Name     Sex   Age  SibSp  \\\n",
       "0                            Braund, Mr. Owen Harris    male  22.0      1   \n",
       "1  Cumings, Mrs. John Bradley (Florence Briggs Th...  female  38.0      1   \n",
       "2                             Heikkinen, Miss. Laina  female  26.0      0   \n",
       "3       Futrelle, Mrs. Jacques Heath (Lily May Peel)  female  35.0      1   \n",
       "4                           Allen, Mr. William Henry    male  35.0      0   \n",
       "\n",
       "   Parch            Ticket     Fare Embarked  Sex_male  Embarked_Q  Embarked_S  \n",
       "0      0         A/5 21171   7.2500        S       1.0         0.0         1.0  \n",
       "1      0          PC 17599  65.6344        C       0.0         0.0         0.0  \n",
       "2      0  STON/O2. 3101282   7.9250        S       0.0         0.0         1.0  \n",
       "3      0            113803  53.1000        S       0.0         0.0         1.0  \n",
       "4      0            373450   8.0500        S       1.0         0.0         1.0  "
      ]
     },
     "execution_count": 79,
     "metadata": {},
     "output_type": "execute_result"
    }
   ],
   "source": [
    "from sklearn.preprocessing import OneHotEncoder\n",
    "# Convert categorical variables (e.g., 'Sex','Embarked') into numerical variables using appropriate techniques (e.g., one-hot encoding,label encoding).\n",
    "saved_encoders = {}\n",
    "encoder = OneHotEncoder(sparse_output=False, drop='first')\n",
    "encoder.fit(df[['Sex','Embarked']])\n",
    "saved_encoders[col] = encoder\n",
    "encoded_df = pd.DataFrame(encoder.transform(df[['Sex','Embarked']]), columns = encoder.get_feature_names_out(['Sex', 'Embarked']))\n",
    "df = pd.concat([df,encoded_df],axis=1)\n",
    "df.head()"
   ]
  },
  {
   "cell_type": "code",
   "execution_count": 80,
   "metadata": {
    "execution": {
     "iopub.execute_input": "2024-09-23T08:06:10.938599Z",
     "iopub.status.busy": "2024-09-23T08:06:10.938177Z",
     "iopub.status.idle": "2024-09-23T08:06:10.945853Z",
     "shell.execute_reply": "2024-09-23T08:06:10.944767Z",
     "shell.execute_reply.started": "2024-09-23T08:06:10.938549Z"
    }
   },
   "outputs": [],
   "source": [
    "#Split the dataset into features (X) and target (y) variables.\n",
    "\n",
    "X = df[['Pclass','Age','SibSp','Parch','Fare','Sex_male','Embarked_Q','Embarked_S']]\n",
    "y = df['Survived']"
   ]
  },
  {
   "cell_type": "markdown",
   "metadata": {},
   "source": [
    "## Tasks 4:\n",
    "\n",
    "Classification models:\n",
    "Build a logistic regression model to predict the survival status ('Survived') of passengers based on other features.\n",
    "\n",
    "Build a decision tree model to classify the passengers as survivors or non-survivors using the Gini Index or Information Gain as the splitting criterion.\n",
    "\n",
    "Build a random forest model by aggregating multiple decision trees and compare its performance with the single decision tree model.\n",
    "\n",
    "Build an ensemble model using bagging (e.g., BaggingClassifier) and compare its performance with the single decision tree model.\n",
    "\n",
    "Build an ensemble model using boosting algorithms such as Adaptive Boosting (AdaBoost)and Gradient Boosting and compare their performance with the single decision tree model.\n",
    "\n",
    "Compare the performance of all the classification models using appropriate evaluation metrics (e.g.,accuracy, precision, recall, F1-score).\n",
    "\n",
    "\n",
    "Model evaluation:\n",
    "\n",
    "Split the dataset into training and testing sets using appropriate techniques (e.g., train test split,cross-validation).\n",
    "\n",
    "Train and evaluate the regression and classification models on the testing set using appropriate evaluation metrics.\n",
    "\n",
    "Tasks:\n",
    "Perform hyperparameter tuning (if applicable) to improve the performance of the models.\n",
    "\n",
    "Final model selection:\n",
    "Select the best performing regression and classification models based on the evaluation metrics.\n",
    "\n",
    "Discuss the strengths and weaknesses of the selected models"
   ]
  },
  {
   "cell_type": "markdown",
   "metadata": {},
   "source": [
    "## Logistic regression model"
   ]
  },
  {
   "cell_type": "markdown",
   "metadata": {},
   "source": [
    "### feature selection"
   ]
  },
  {
   "cell_type": "code",
   "execution_count": 81,
   "metadata": {
    "execution": {
     "iopub.execute_input": "2024-09-23T08:06:10.951220Z",
     "iopub.status.busy": "2024-09-23T08:06:10.950818Z",
     "iopub.status.idle": "2024-09-23T08:06:10.992019Z",
     "shell.execute_reply": "2024-09-23T08:06:10.990767Z",
     "shell.execute_reply.started": "2024-09-23T08:06:10.951181Z"
    }
   },
   "outputs": [
    {
     "name": "stdout",
     "output_type": "stream",
     "text": [
      "      Feature  Coefficient\n",
      "5    Sex_male     2.625422\n",
      "0      Pclass     0.870599\n",
      "2       SibSp     0.407019\n",
      "7  Embarked_S     0.336911\n",
      "3       Parch     0.140933\n",
      "1         Age     0.042779\n",
      "6  Embarked_Q     0.030377\n",
      "4        Fare     0.016235\n"
     ]
    }
   ],
   "source": [
    "# Fit logistic regression model\n",
    "logreg = LogisticRegression(max_iter=200)\n",
    "logreg.fit(X, y)\n",
    "\n",
    "# Print the coefficients\n",
    "coefficients = pd.DataFrame({\"Feature\": X.columns, \"Coefficient\": np.abs(logreg.coef_[0])})\n",
    "coefficients = coefficients.sort_values(by=\"Coefficient\", ascending=False)\n",
    "print(coefficients)"
   ]
  },
  {
   "cell_type": "code",
   "execution_count": 82,
   "metadata": {
    "execution": {
     "iopub.execute_input": "2024-09-23T08:06:10.993582Z",
     "iopub.status.busy": "2024-09-23T08:06:10.993199Z",
     "iopub.status.idle": "2024-09-23T08:06:11.087769Z",
     "shell.execute_reply": "2024-09-23T08:06:11.086619Z",
     "shell.execute_reply.started": "2024-09-23T08:06:10.993543Z"
    }
   },
   "outputs": [
    {
     "name": "stdout",
     "output_type": "stream",
     "text": [
      "      Feature  Ranking\n",
      "5    Sex_male        1\n",
      "0      Pclass        2\n",
      "7  Embarked_S        3\n",
      "2       SibSp        4\n",
      "3       Parch        5\n",
      "1         Age        6\n",
      "6  Embarked_Q        7\n",
      "4        Fare        8\n"
     ]
    }
   ],
   "source": [
    "# Logistic Regression model\n",
    "logreg = LogisticRegression(max_iter=200)\n",
    "\n",
    "# Initialize RFE with the logistic regression model\n",
    "rfe = RFE(logreg, n_features_to_select=1)\n",
    "\n",
    "# Fit RFE\n",
    "rfe.fit(X, y)\n",
    "\n",
    "# Rank the features\n",
    "feature_ranking = pd.DataFrame({\"Feature\": X.columns, \"Ranking\": rfe.ranking_})\n",
    "feature_ranking = feature_ranking.sort_values(by=\"Ranking\")\n",
    "print(feature_ranking)"
   ]
  },
  {
   "cell_type": "code",
   "execution_count": 83,
   "metadata": {
    "execution": {
     "iopub.execute_input": "2024-09-23T08:06:11.089544Z",
     "iopub.status.busy": "2024-09-23T08:06:11.089063Z",
     "iopub.status.idle": "2024-09-23T08:06:11.099551Z",
     "shell.execute_reply": "2024-09-23T08:06:11.098571Z",
     "shell.execute_reply.started": "2024-09-23T08:06:11.089495Z"
    }
   },
   "outputs": [],
   "source": [
    "### removing removing Fare, Embarked_Q, and possibly Age, as they show the least importance in both the coefficient and RFE rankings. \n",
    "\n",
    "X_logistic = df[['Pclass', 'Sex_male', 'SibSp', 'Parch', 'Embarked_S']]\n",
    "y_logistic = y\n",
    "\n",
    "# Split the data into training and testing sets\n",
    "X_train, X_test, y_train, y_test = train_test_split(X_logistic, y_logistic, test_size=0.20, random_state=42, stratify=y_logistic)"
   ]
  },
  {
   "cell_type": "code",
   "execution_count": 84,
   "metadata": {
    "execution": {
     "iopub.execute_input": "2024-09-23T08:06:11.102052Z",
     "iopub.status.busy": "2024-09-23T08:06:11.101194Z",
     "iopub.status.idle": "2024-09-23T08:06:11.120828Z",
     "shell.execute_reply": "2024-09-23T08:06:11.119685Z",
     "shell.execute_reply.started": "2024-09-23T08:06:11.101995Z"
    }
   },
   "outputs": [
    {
     "name": "stdout",
     "output_type": "stream",
     "text": [
      "Before Oversampling: Survived\n",
      "0    439\n",
      "1    273\n",
      "Name: count, dtype: int64\n",
      "\n",
      "\n",
      "After Oversampling: Survived\n",
      "0    439\n",
      "1    329\n",
      "Name: count, dtype: int64\n"
     ]
    }
   ],
   "source": [
    "#Oversampling\n",
    "\n",
    "#Before Oversampling\n",
    "print('Before Oversampling:', y_train.value_counts())\n",
    "\n",
    "# Applying oversampling SMOTE\n",
    "over_sampler = SMOTE(sampling_strategy=0.75,random_state=42,k_neighbors=3,n_jobs=None)\n",
    "X_train, y_train = over_sampler.fit_resample(X_train, y_train)\n",
    "\n",
    "print('\\n')\n",
    "\n",
    "#After Oversampling\n",
    "print('After Oversampling:', y_train.value_counts())"
   ]
  },
  {
   "cell_type": "code",
   "execution_count": 85,
   "metadata": {
    "execution": {
     "iopub.execute_input": "2024-09-23T08:06:11.122668Z",
     "iopub.status.busy": "2024-09-23T08:06:11.122297Z",
     "iopub.status.idle": "2024-09-23T08:06:11.127782Z",
     "shell.execute_reply": "2024-09-23T08:06:11.126652Z",
     "shell.execute_reply.started": "2024-09-23T08:06:11.122630Z"
    }
   },
   "outputs": [],
   "source": [
    "# #Undersampling\n",
    "\n",
    "# #Before Undersampling\n",
    "# print('Before Undersampling:', y_train.value_counts())\n",
    "\n",
    "# # Applying undersampling EditedNearestNeighbours\n",
    "# enn = EditedNearestNeighbours(n_neighbors=3, kind_sel='all', n_jobs=-1)\n",
    "# X_train, y_train = enn.fit_resample(X_train, y_train)\n",
    "\n",
    "# print('\\n')\n",
    "\n",
    "# #After Undersampling\n",
    "# print('After Undersampling:', y_train.value_counts())"
   ]
  },
  {
   "cell_type": "code",
   "execution_count": 86,
   "metadata": {
    "execution": {
     "iopub.execute_input": "2024-09-23T08:06:11.129821Z",
     "iopub.status.busy": "2024-09-23T08:06:11.129408Z",
     "iopub.status.idle": "2024-09-23T08:06:16.679690Z",
     "shell.execute_reply": "2024-09-23T08:06:16.678541Z",
     "shell.execute_reply.started": "2024-09-23T08:06:11.129773Z"
    }
   },
   "outputs": [
    {
     "name": "stdout",
     "output_type": "stream",
     "text": [
      "Fitting 5 folds for each of 168 candidates, totalling 840 fits\n",
      "Best Parameters: {'C': 0.1, 'class_weight': 'balanced', 'max_iter': 100, 'penalty': 'l2', 'solver': 'lbfgs'}\n",
      "Training Classification Report:\n",
      "              precision    recall  f1-score   support\n",
      "\n",
      "           0       0.82      0.74      0.78       439\n",
      "           1       0.69      0.79      0.74       329\n",
      "\n",
      "    accuracy                           0.76       768\n",
      "   macro avg       0.76      0.76      0.76       768\n",
      "weighted avg       0.77      0.76      0.76       768\n",
      "\n",
      "Testing Classification Report:\n",
      "              precision    recall  f1-score   support\n",
      "\n",
      "           0       0.85      0.76      0.80       110\n",
      "           1       0.68      0.78      0.72        69\n",
      "\n",
      "    accuracy                           0.77       179\n",
      "   macro avg       0.76      0.77      0.76       179\n",
      "weighted avg       0.78      0.77      0.77       179\n",
      "\n"
     ]
    }
   ],
   "source": [
    "# Define the model\n",
    "logreg = LogisticRegression()\n",
    "\n",
    "# Define the adjusted parameter grid to avoid warnings\n",
    "param_grid_adjusted = [\n",
    "    {\n",
    "        'penalty': ['l1', 'l2'],\n",
    "        'C': [0.1, 1, 10, 100],\n",
    "        'solver': ['liblinear'],  # 'liblinear' supports 'l1' and 'l2' only\n",
    "        'max_iter': [100, 200, 300],\n",
    "        'class_weight': [None, 'balanced']\n",
    "    },\n",
    "    {\n",
    "        'penalty': ['l2'],\n",
    "        'C': [0.1, 1, 10, 100],\n",
    "        'solver': ['lbfgs'],  # 'lbfgs' only supports 'l2'\n",
    "        'max_iter': [100, 200, 300],\n",
    "        'class_weight': [None, 'balanced']\n",
    "    },\n",
    "    {\n",
    "        'penalty': ['elasticnet'],  # Only elasticnet uses l1_ratio\n",
    "        'C': [0.1, 1, 10, 100],\n",
    "        'solver': ['saga'],  # 'saga' supports 'l1', 'l2', and 'elasticnet'\n",
    "        'max_iter': [100, 200, 300, 1000],\n",
    "        'class_weight': [None, 'balanced'],\n",
    "        'l1_ratio': [0, 0.5, 1]  # Only relevant for 'elasticnet'\n",
    "    }\n",
    "]\n",
    "\n",
    "# Perform grid search with the refined parameter grid\n",
    "grid_search = GridSearchCV(\n",
    "    estimator=logreg,\n",
    "    param_grid=param_grid_adjusted,\n",
    "    cv=5,  # 5-fold cross-validation\n",
    "    scoring='recall',\n",
    "    n_jobs=-1,  # Use all available cores\n",
    "    verbose=1\n",
    ")\n",
    "\n",
    "# Fit grid search\n",
    "grid_search.fit(X_train, y_train)\n",
    "\n",
    "print(\"Best Parameters:\", grid_search.best_params_)\n",
    "\n",
    "best_model_logistic = grid_search.best_estimator_\n",
    "\n",
    "# Predict on the training set\n",
    "y_train_pred = best_model_logistic.predict(X_train)\n",
    "\n",
    "# Predict on the test set\n",
    "y_test_pred = best_model_logistic.predict(X_test)\n",
    "\n",
    "# Generate the classification reports\n",
    "print(\"Training Classification Report:\")\n",
    "print(classification_report(y_train, y_train_pred))\n",
    "\n",
    "print(\"Testing Classification Report:\")\n",
    "print(classification_report(y_test, y_test_pred))"
   ]
  },
  {
   "cell_type": "code",
   "execution_count": null,
   "metadata": {},
   "outputs": [],
   "source": []
  },
  {
   "cell_type": "markdown",
   "metadata": {
    "execution": {
     "iopub.execute_input": "2024-09-14T09:59:50.494895Z",
     "iopub.status.busy": "2024-09-14T09:59:50.493816Z",
     "iopub.status.idle": "2024-09-14T09:59:50.500549Z",
     "shell.execute_reply": "2024-09-14T09:59:50.499050Z",
     "shell.execute_reply.started": "2024-09-14T09:59:50.494820Z"
    }
   },
   "source": [
    "## Decision Tree Model"
   ]
  },
  {
   "cell_type": "markdown",
   "metadata": {},
   "source": [
    "### Feature Importance"
   ]
  },
  {
   "cell_type": "code",
   "execution_count": 87,
   "metadata": {
    "execution": {
     "iopub.execute_input": "2024-09-23T08:06:16.681729Z",
     "iopub.status.busy": "2024-09-23T08:06:16.681373Z",
     "iopub.status.idle": "2024-09-23T08:06:16.697829Z",
     "shell.execute_reply": "2024-09-23T08:06:16.696739Z",
     "shell.execute_reply.started": "2024-09-23T08:06:16.681686Z"
    }
   },
   "outputs": [
    {
     "name": "stdout",
     "output_type": "stream",
     "text": [
      "      Feature  Importance\n",
      "5    Sex_male    0.310364\n",
      "1         Age    0.239450\n",
      "4        Fare    0.231425\n",
      "0      Pclass    0.118360\n",
      "2       SibSp    0.047997\n",
      "3       Parch    0.034013\n",
      "7  Embarked_S    0.014695\n",
      "6  Embarked_Q    0.003696\n"
     ]
    }
   ],
   "source": [
    "# Train the model\n",
    "decision_tree = DecisionTreeClassifier(criterion='gini', random_state=42)\n",
    "\n",
    "decision_tree.fit(X, y)\n",
    "\n",
    "# Feature importances\n",
    "feature_importances = decision_tree.feature_importances_\n",
    "\n",
    "# DataFrame for better readability\n",
    "importance_df = pd.DataFrame({\n",
    "    'Feature': X.columns,\n",
    "    'Importance': feature_importances\n",
    "}).sort_values(by='Importance', ascending=False)\n",
    "\n",
    "print(importance_df)"
   ]
  },
  {
   "cell_type": "code",
   "execution_count": 88,
   "metadata": {
    "execution": {
     "iopub.execute_input": "2024-09-23T08:06:16.699801Z",
     "iopub.status.busy": "2024-09-23T08:06:16.699465Z",
     "iopub.status.idle": "2024-09-23T08:06:16.730661Z",
     "shell.execute_reply": "2024-09-23T08:06:16.729552Z",
     "shell.execute_reply.started": "2024-09-23T08:06:16.699764Z"
    }
   },
   "outputs": [
    {
     "name": "stdout",
     "output_type": "stream",
     "text": [
      "      Feature  Ranking\n",
      "0      Pclass        1\n",
      "1         Age        1\n",
      "4        Fare        1\n",
      "5    Sex_male        1\n",
      "2       SibSp        2\n",
      "3       Parch        3\n",
      "7  Embarked_S        4\n",
      "6  Embarked_Q        5\n"
     ]
    }
   ],
   "source": [
    "# RFE with Decision Tree\n",
    "rfe = RFE(estimator=decision_tree, n_features_to_select=4)\n",
    "rfe.fit(X, y)\n",
    "\n",
    "# Feature ranking\n",
    "rfe_ranking = pd.DataFrame({\n",
    "    'Feature': X.columns,\n",
    "    'Ranking': rfe.ranking_\n",
    "}).sort_values(by='Ranking')\n",
    "\n",
    "print(rfe_ranking)"
   ]
  },
  {
   "cell_type": "code",
   "execution_count": 89,
   "metadata": {
    "execution": {
     "iopub.execute_input": "2024-09-23T08:06:16.732133Z",
     "iopub.status.busy": "2024-09-23T08:06:16.731822Z",
     "iopub.status.idle": "2024-09-23T08:06:16.743002Z",
     "shell.execute_reply": "2024-09-23T08:06:16.741951Z",
     "shell.execute_reply.started": "2024-09-23T08:06:16.732100Z"
    }
   },
   "outputs": [],
   "source": [
    "# Using use Sex_male, Age, Fare, and Pclass as for the model based on both feature importance and RFE ranking.\n",
    "\n",
    "X_decision = df[['Sex_male', 'Age', 'Fare', 'Pclass']]\n",
    "y_decision = y\n",
    "\n",
    "# Split the data into training and testing sets\n",
    "X_train, X_test, y_train, y_test = train_test_split(X_decision, y_decision, test_size=0.20, random_state=42, stratify=y_decision)"
   ]
  },
  {
   "cell_type": "code",
   "execution_count": 90,
   "metadata": {
    "execution": {
     "iopub.execute_input": "2024-09-23T08:06:16.744604Z",
     "iopub.status.busy": "2024-09-23T08:06:16.744269Z",
     "iopub.status.idle": "2024-09-23T08:06:16.763444Z",
     "shell.execute_reply": "2024-09-23T08:06:16.762274Z",
     "shell.execute_reply.started": "2024-09-23T08:06:16.744570Z"
    }
   },
   "outputs": [
    {
     "name": "stdout",
     "output_type": "stream",
     "text": [
      "Before Oversampling: Survived\n",
      "0    439\n",
      "1    273\n",
      "Name: count, dtype: int64\n",
      "\n",
      "\n",
      "After Oversampling: Survived\n",
      "0    439\n",
      "1    329\n",
      "Name: count, dtype: int64\n"
     ]
    }
   ],
   "source": [
    "#Oversampling\n",
    "\n",
    "#Before Oversampling\n",
    "print('Before Oversampling:', y_train.value_counts())\n",
    "\n",
    "# Applying oversampling SMOTE\n",
    "over_sampler = SMOTE(sampling_strategy=0.75,random_state=42,k_neighbors=3,n_jobs=None)\n",
    "X_train, y_train = over_sampler.fit_resample(X_train, y_train)\n",
    "\n",
    "print('\\n')\n",
    "\n",
    "#After Oversampling\n",
    "print('After Oversampling:', y_train.value_counts())"
   ]
  },
  {
   "cell_type": "code",
   "execution_count": 91,
   "metadata": {
    "execution": {
     "iopub.execute_input": "2024-09-23T08:06:16.765367Z",
     "iopub.status.busy": "2024-09-23T08:06:16.764990Z",
     "iopub.status.idle": "2024-09-23T08:06:16.770125Z",
     "shell.execute_reply": "2024-09-23T08:06:16.769043Z",
     "shell.execute_reply.started": "2024-09-23T08:06:16.765329Z"
    }
   },
   "outputs": [],
   "source": [
    "# #Undersampling\n",
    "\n",
    "# #Before Undersampling\n",
    "# print('Before Undersampling:', y_train.value_counts())\n",
    "\n",
    "# # Applying undersampling EditedNearestNeighbours\n",
    "# enn = EditedNearestNeighbours(n_neighbors=3, kind_sel='all', n_jobs=-1)\n",
    "# X_train, y_train = enn.fit_resample(X_train, y_train)\n",
    "\n",
    "# print('\\n')\n",
    "\n",
    "# #After Undersampling\n",
    "# print('After Undersampling:', y_train.value_counts())"
   ]
  },
  {
   "cell_type": "code",
   "execution_count": 92,
   "metadata": {
    "execution": {
     "iopub.execute_input": "2024-09-23T08:06:16.772045Z",
     "iopub.status.busy": "2024-09-23T08:06:16.771688Z",
     "iopub.status.idle": "2024-09-23T08:06:25.185481Z",
     "shell.execute_reply": "2024-09-23T08:06:25.184289Z",
     "shell.execute_reply.started": "2024-09-23T08:06:16.772010Z"
    }
   },
   "outputs": [
    {
     "name": "stdout",
     "output_type": "stream",
     "text": [
      "Fitting 10 folds for each of 256 candidates, totalling 2560 fits\n",
      "Best Parameters: {'ccp_alpha': 0.01, 'class_weight': 'balanced', 'criterion': 'entropy', 'max_depth': 5, 'max_leaf_nodes': 10, 'min_impurity_decrease': 0.01, 'min_samples_leaf': 4, 'min_samples_split': 10, 'splitter': 'best'}\n",
      "Training Classification Report:\n",
      "              precision    recall  f1-score   support\n",
      "\n",
      "           0       0.82      0.89      0.85       439\n",
      "           1       0.83      0.74      0.79       329\n",
      "\n",
      "    accuracy                           0.83       768\n",
      "   macro avg       0.83      0.82      0.82       768\n",
      "weighted avg       0.83      0.83      0.83       768\n",
      "\n",
      "Testing Classification Report:\n",
      "              precision    recall  f1-score   support\n",
      "\n",
      "           0       0.80      0.88      0.84       110\n",
      "           1       0.78      0.65      0.71        69\n",
      "\n",
      "    accuracy                           0.79       179\n",
      "   macro avg       0.79      0.77      0.77       179\n",
      "weighted avg       0.79      0.79      0.79       179\n",
      "\n"
     ]
    }
   ],
   "source": [
    "# Model Training\n",
    "\n",
    "model = DecisionTreeClassifier(random_state = 42)\n",
    "\n",
    "# Parameter Grid\n",
    "param_grid = [{\n",
    "    'criterion': ['gini', 'entropy'],\n",
    "    'splitter': ['best'],  \n",
    "    'max_depth': [5, 7, 10, 20],  \n",
    "    'min_samples_split': [10, 15],  \n",
    "    'min_samples_leaf': [4, 6],  \n",
    "    'max_leaf_nodes': [10, 20],  \n",
    "    'min_impurity_decrease': [0.01, 0.05],  \n",
    "    'class_weight': ['balanced'],  \n",
    "    'ccp_alpha': [0.01, 0.1]  \n",
    "}]\n",
    "\n",
    "# GridSearchCV\n",
    "grid_search = GridSearchCV(\n",
    "    estimator=model,\n",
    "    param_grid=param_grid,\n",
    "    scoring = 'recall',\n",
    "    n_jobs=-1,\n",
    "    cv = 10,\n",
    "    verbose=1)\n",
    "\n",
    "# Fit the model\n",
    "grid_search.fit(X_train, y_train)\n",
    "\n",
    "# Best parameters\n",
    "print(\"Best Parameters:\", grid_search.best_params_)\n",
    "\n",
    "best_model_decision = grid_search.best_estimator_\n",
    "\n",
    "# Predict on training set\n",
    "y_train_pred = best_model_decision.predict(X_train)\n",
    "\n",
    "# Predict ontest set\n",
    "y_test_pred = best_model_decision.predict(X_test)\n",
    "\n",
    "# classification reports\n",
    "print(\"Training Classification Report:\")\n",
    "print(classification_report(y_train, y_train_pred))\n",
    "\n",
    "print(\"Testing Classification Report:\")\n",
    "print(classification_report(y_test, y_test_pred))\n",
    "\n",
    "# Save model using pickle\n",
    "with open('model_decision.pkl', 'wb') as f:\n",
    "    pickle.dump(best_model_decision, f)"
   ]
  },
  {
   "cell_type": "code",
   "execution_count": 93,
   "metadata": {
    "execution": {
     "iopub.execute_input": "2024-09-23T08:06:25.187451Z",
     "iopub.status.busy": "2024-09-23T08:06:25.187073Z",
     "iopub.status.idle": "2024-09-23T08:06:25.216836Z",
     "shell.execute_reply": "2024-09-23T08:06:25.215752Z",
     "shell.execute_reply.started": "2024-09-23T08:06:25.187412Z"
    }
   },
   "outputs": [
    {
     "name": "stdout",
     "output_type": "stream",
     "text": [
      "Training Classification Report with threshold adjustment:\n",
      "              precision    recall  f1-score   support\n",
      "\n",
      "           0       0.89      0.76      0.82       439\n",
      "           1       0.73      0.87      0.79       329\n",
      "\n",
      "    accuracy                           0.80       768\n",
      "   macro avg       0.81      0.81      0.80       768\n",
      "weighted avg       0.82      0.80      0.81       768\n",
      "\n",
      "Testing Classification Report with threshold adjustment:\n",
      "              precision    recall  f1-score   support\n",
      "\n",
      "           0       0.84      0.68      0.75       110\n",
      "           1       0.61      0.80      0.69        69\n",
      "\n",
      "    accuracy                           0.73       179\n",
      "   macro avg       0.73      0.74      0.72       179\n",
      "weighted avg       0.75      0.73      0.73       179\n",
      "\n"
     ]
    }
   ],
   "source": [
    "# Adjusting the decision threshold to improve the model performance\n",
    "\n",
    "# Predicted probabilities for class 1\n",
    "y_train_proba = best_model_decision.predict_proba(X_train)[:, 1]\n",
    "y_test_proba = best_model_decision.predict_proba(X_test)[:, 1]\n",
    "\n",
    "# Custom threshold (using 0.3 instead of 0.5)\n",
    "threshold = 0.3\n",
    "\n",
    "# Apply the threshold to make predictions\n",
    "y_train_pred_threshold = (y_train_proba >= threshold).astype(int)\n",
    "y_test_pred_threshold = (y_test_proba >= threshold).astype(int)\n",
    "\n",
    "# New Predictions\n",
    "print(\"Training Classification Report with threshold adjustment:\")\n",
    "print(classification_report(y_train, y_train_pred_threshold))\n",
    "\n",
    "print(\"Testing Classification Report with threshold adjustment:\")\n",
    "print(classification_report(y_test, y_test_pred_threshold))"
   ]
  },
  {
   "cell_type": "code",
   "execution_count": null,
   "metadata": {},
   "outputs": [],
   "source": []
  },
  {
   "cell_type": "markdown",
   "metadata": {},
   "source": [
    "## Random Forest model "
   ]
  },
  {
   "cell_type": "markdown",
   "metadata": {},
   "source": [
    "#### Feature Importance"
   ]
  },
  {
   "cell_type": "code",
   "execution_count": 94,
   "metadata": {
    "execution": {
     "iopub.execute_input": "2024-09-23T08:06:25.220136Z",
     "iopub.status.busy": "2024-09-23T08:06:25.219221Z",
     "iopub.status.idle": "2024-09-23T08:07:12.823835Z",
     "shell.execute_reply": "2024-09-23T08:07:12.822732Z",
     "shell.execute_reply.started": "2024-09-23T08:06:25.220079Z"
    }
   },
   "outputs": [
    {
     "data": {
      "image/png": "[encoded data removed]",
      "text/plain": [
       "<Figure size 1000x600 with 1 Axes>"
      ]
     },
     "metadata": {},
     "output_type": "display_data"
    }
   ],
   "source": [
    "# Initialize the classifier\n",
    "random_forest = RandomForestClassifier(random_state=42)\n",
    "\n",
    "# Mean cross-validation scores\n",
    "scores = []\n",
    "\n",
    "# Loop through various numbers of selected features\n",
    "for i in range(1, X.shape[1] + 1):\n",
    "    rfe = RFE(estimator=random_forest, n_features_to_select=i)\n",
    "    rfe.fit(X, y)\n",
    "    scoring='recall'\n",
    "    # Perform cross-validation\n",
    "    score = np.mean(cross_val_score(rfe, X, y, cv=5, scoring=scoring))\n",
    "    scores.append(score)\n",
    "\n",
    "# Plot the elbow curve\n",
    "plt.figure(figsize=(10, 6))\n",
    "plt.plot(range(1, X.shape[1] + 1), scores, marker='o')\n",
    "plt.title(\"Elbow Method for Feature Selection\")\n",
    "plt.xlabel(\"Number of Features\")\n",
    "plt.ylabel(\"Cross-Validation Accuracy\")\n",
    "plt.show()"
   ]
  },
  {
   "cell_type": "code",
   "execution_count": 95,
   "metadata": {
    "execution": {
     "iopub.execute_input": "2024-09-23T08:07:12.825459Z",
     "iopub.status.busy": "2024-09-23T08:07:12.825062Z",
     "iopub.status.idle": "2024-09-23T08:07:22.958537Z",
     "shell.execute_reply": "2024-09-23T08:07:22.957284Z",
     "shell.execute_reply.started": "2024-09-23T08:07:12.825421Z"
    }
   },
   "outputs": [
    {
     "name": "stdout",
     "output_type": "stream",
     "text": [
      "Optimal number of features: 5\n"
     ]
    },
    {
     "data": {
      "text/html": [
       "<div>\n",
       "<style scoped>\n",
       "    .dataframe tbody tr th:only-of-type {\n",
       "        vertical-align: middle;\n",
       "    }\n",
       "\n",
       "    .dataframe tbody tr th {\n",
       "        vertical-align: top;\n",
       "    }\n",
       "\n",
       "    .dataframe thead th {\n",
       "        text-align: right;\n",
       "    }\n",
       "</style>\n",
       "<table border=\"1\" class=\"dataframe\">\n",
       "  <thead>\n",
       "    <tr style=\"text-align: right;\">\n",
       "      <th></th>\n",
       "      <th>Feature</th>\n",
       "      <th>Ranking</th>\n",
       "    </tr>\n",
       "  </thead>\n",
       "  <tbody>\n",
       "    <tr>\n",
       "      <th>0</th>\n",
       "      <td>Pclass</td>\n",
       "      <td>1</td>\n",
       "    </tr>\n",
       "    <tr>\n",
       "      <th>1</th>\n",
       "      <td>Age</td>\n",
       "      <td>1</td>\n",
       "    </tr>\n",
       "    <tr>\n",
       "      <th>2</th>\n",
       "      <td>SibSp</td>\n",
       "      <td>1</td>\n",
       "    </tr>\n",
       "    <tr>\n",
       "      <th>4</th>\n",
       "      <td>Fare</td>\n",
       "      <td>1</td>\n",
       "    </tr>\n",
       "    <tr>\n",
       "      <th>5</th>\n",
       "      <td>Sex_male</td>\n",
       "      <td>1</td>\n",
       "    </tr>\n",
       "    <tr>\n",
       "      <th>3</th>\n",
       "      <td>Parch</td>\n",
       "      <td>2</td>\n",
       "    </tr>\n",
       "    <tr>\n",
       "      <th>7</th>\n",
       "      <td>Embarked_S</td>\n",
       "      <td>3</td>\n",
       "    </tr>\n",
       "    <tr>\n",
       "      <th>6</th>\n",
       "      <td>Embarked_Q</td>\n",
       "      <td>4</td>\n",
       "    </tr>\n",
       "  </tbody>\n",
       "</table>\n",
       "</div>"
      ],
      "text/plain": [
       "      Feature  Ranking\n",
       "0      Pclass        1\n",
       "1         Age        1\n",
       "2       SibSp        1\n",
       "4        Fare        1\n",
       "5    Sex_male        1\n",
       "3       Parch        2\n",
       "7  Embarked_S        3\n",
       "6  Embarked_Q        4"
      ]
     },
     "execution_count": 95,
     "metadata": {},
     "output_type": "execute_result"
    }
   ],
   "source": [
    "#Using RECURSIVE FEATURE ELEMINATION WITH CROSS-VALIDATION(RFECV)\n",
    "rfecv = RFECV(estimator=random_forest, step=1, cv=5, scoring='f1')\n",
    "rfecv.fit(X,y)\n",
    "\n",
    "# Number of features chosen\n",
    "print(\"Optimal number of features:\", rfecv.n_features_)\n",
    "\n",
    "pd.DataFrame({'Feature': X.columns, 'Ranking': rfecv.ranking_}).sort_values(by='Ranking')"
   ]
  },
  {
   "cell_type": "code",
   "execution_count": 96,
   "metadata": {
    "execution": {
     "iopub.execute_input": "2024-09-23T08:07:22.960845Z",
     "iopub.status.busy": "2024-09-23T08:07:22.960151Z",
     "iopub.status.idle": "2024-09-23T08:07:22.974132Z",
     "shell.execute_reply": "2024-09-23T08:07:22.972110Z",
     "shell.execute_reply.started": "2024-09-23T08:07:22.960794Z"
    }
   },
   "outputs": [],
   "source": [
    "# Using use Sex_male, Age, Fare, and Pclass as for the model based on both feature importance and RFE ranking.\n",
    "\n",
    "X_random = df[['Pclass', 'Age', 'SibSp', 'Fare', 'Sex_male']]\n",
    "y_random  = y\n",
    "\n",
    "# Split the data into training and testing sets\n",
    "X_train, X_test, y_train, y_test = train_test_split(X_random , y_random , test_size=0.20, random_state=42, stratify=y_random)"
   ]
  },
  {
   "cell_type": "code",
   "execution_count": 97,
   "metadata": {
    "execution": {
     "iopub.execute_input": "2024-09-23T08:07:22.977640Z",
     "iopub.status.busy": "2024-09-23T08:07:22.976463Z",
     "iopub.status.idle": "2024-09-23T08:07:22.999385Z",
     "shell.execute_reply": "2024-09-23T08:07:22.998207Z",
     "shell.execute_reply.started": "2024-09-23T08:07:22.977587Z"
    }
   },
   "outputs": [
    {
     "name": "stdout",
     "output_type": "stream",
     "text": [
      "Before Oversampling: Survived\n",
      "0    439\n",
      "1    273\n",
      "Name: count, dtype: int64\n",
      "\n",
      "\n",
      "After Oversampling: Survived\n",
      "0    439\n",
      "1    329\n",
      "Name: count, dtype: int64\n"
     ]
    }
   ],
   "source": [
    "#Oversampling\n",
    "\n",
    "#Before Oversampling\n",
    "print('Before Oversampling:', y_train.value_counts())\n",
    "\n",
    "# Applying oversampling SMOTE\n",
    "over_sampler = SMOTE(sampling_strategy=0.75,random_state=42,k_neighbors=3,n_jobs=None)\n",
    "X_train, y_train = over_sampler.fit_resample(X_train, y_train)\n",
    "\n",
    "print('\\n')\n",
    "\n",
    "#After Oversampling\n",
    "print('After Oversampling:', y_train.value_counts())"
   ]
  },
  {
   "cell_type": "code",
   "execution_count": 98,
   "metadata": {
    "execution": {
     "iopub.execute_input": "2024-09-23T08:07:23.001430Z",
     "iopub.status.busy": "2024-09-23T08:07:23.000737Z",
     "iopub.status.idle": "2024-09-23T08:07:34.438272Z",
     "shell.execute_reply": "2024-09-23T08:07:34.437029Z",
     "shell.execute_reply.started": "2024-09-23T08:07:23.001392Z"
    }
   },
   "outputs": [
    {
     "name": "stdout",
     "output_type": "stream",
     "text": [
      "Fitting 5 folds for each of 10 candidates, totalling 50 fits\n",
      "Best Parameters: {'n_estimators': 100, 'min_samples_split': 20, 'min_samples_leaf': 2, 'max_features': 'log2', 'max_depth': 10, 'criterion': 'entropy', 'class_weight': 'balanced', 'bootstrap': True}\n",
      "Training Classification Report:\n",
      "              precision    recall  f1-score   support\n",
      "\n",
      "           0       0.88      0.91      0.89       439\n",
      "           1       0.87      0.84      0.85       329\n",
      "\n",
      "    accuracy                           0.88       768\n",
      "   macro avg       0.88      0.87      0.87       768\n",
      "weighted avg       0.88      0.88      0.88       768\n",
      "\n",
      "Testing Classification Report:\n",
      "              precision    recall  f1-score   support\n",
      "\n",
      "           0       0.88      0.86      0.87       110\n",
      "           1       0.79      0.81      0.80        69\n",
      "\n",
      "    accuracy                           0.84       179\n",
      "   macro avg       0.83      0.84      0.84       179\n",
      "weighted avg       0.84      0.84      0.84       179\n",
      "\n"
     ]
    }
   ],
   "source": [
    "model = RandomForestClassifier(random_state=42)\n",
    "\n",
    "param_distributions = {\n",
    "    'n_estimators': [100, 200, 500],\n",
    "    'max_depth': [None, 10, 20, 30],\n",
    "    'min_samples_split': [2, 10, 20],\n",
    "    'min_samples_leaf': [1, 2, 5],\n",
    "    'max_features': [\"sqrt\", \"log2\", None],\n",
    "    'bootstrap': [True, False],\n",
    "    'criterion': ['gini', 'entropy'],\n",
    "    'class_weight': [None, 'balanced']\n",
    "}\n",
    "\n",
    "random_seach = RandomizedSearchCV(\n",
    "    estimator=model, \n",
    "    param_distributions=param_distributions, \n",
    "    n_iter=10,  \n",
    "    scoring='recall',\n",
    "    n_jobs=-1,  \n",
    "    cv=5,       \n",
    "    verbose=1,  \n",
    "    random_state=42)\n",
    "\n",
    "random_seach.fit(X_random,y_random)\n",
    "\n",
    "print(\"Best Parameters:\", random_seach.best_params_)\n",
    "\n",
    "best_model_random = random_seach.best_estimator_\n",
    "\n",
    "\n",
    "# Predict on the training set\n",
    "y_train_pred = best_model_random.predict(X_train)\n",
    "\n",
    "# Predict on the test set\n",
    "y_test_pred = best_model_random.predict(X_test)\n",
    "\n",
    "# Generate the classification reports\n",
    "print(\"Training Classification Report:\")\n",
    "print(classification_report(y_train, y_train_pred))\n",
    "\n",
    "print(\"Testing Classification Report:\")\n",
    "print(classification_report(y_test, y_test_pred))"
   ]
  },
  {
   "cell_type": "code",
   "execution_count": null,
   "metadata": {},
   "outputs": [],
   "source": []
  },
  {
   "cell_type": "markdown",
   "metadata": {},
   "source": [
    "## BaggingClassifier"
   ]
  },
  {
   "cell_type": "markdown",
   "metadata": {},
   "source": [
    "#### Feature importance"
   ]
  },
  {
   "cell_type": "code",
   "execution_count": 99,
   "metadata": {
    "execution": {
     "iopub.execute_input": "2024-09-23T08:07:34.445923Z",
     "iopub.status.busy": "2024-09-23T08:07:34.445505Z",
     "iopub.status.idle": "2024-09-23T08:07:35.596184Z",
     "shell.execute_reply": "2024-09-23T08:07:35.595056Z",
     "shell.execute_reply.started": "2024-09-23T08:07:34.445882Z"
    }
   },
   "outputs": [
    {
     "data": {
      "image/png": "[encoded data removed]",
      "text/plain": [
       "<Figure size 1000x600 with 1 Axes>"
      ]
     },
     "metadata": {},
     "output_type": "display_data"
    }
   ],
   "source": [
    "#Calculating optimal number of features i\n",
    "\n",
    "scores = []\n",
    "\n",
    "for i in range(1,X.shape[1]+1):\n",
    "    rfe = RFE(estimator=DecisionTreeClassifier(random_state = 42),n_features_to_select=i)\n",
    "    rfe.fit(X,y)\n",
    "    scoring='recall'\n",
    "    # Perform cross-validation\n",
    "    score = np.mean(cross_val_score(rfe, X, y, cv=5, scoring=scoring))\n",
    "    scores.append(score)\n",
    "\n",
    "# Plot the elbow curve\n",
    "plt.figure(figsize=(10, 6))\n",
    "plt.plot(range(1, X.shape[1] + 1), scores, marker='o')\n",
    "plt.title(\"Elbow Method for Feature Selection\")\n",
    "plt.xlabel(\"Number of Features\")\n",
    "plt.ylabel(f\"Cross-Validation {scoring}\")\n",
    "plt.show()"
   ]
  },
  {
   "cell_type": "code",
   "execution_count": 100,
   "metadata": {
    "execution": {
     "iopub.execute_input": "2024-09-23T08:07:35.598461Z",
     "iopub.status.busy": "2024-09-23T08:07:35.598011Z",
     "iopub.status.idle": "2024-09-23T08:07:35.804982Z",
     "shell.execute_reply": "2024-09-23T08:07:35.803795Z",
     "shell.execute_reply.started": "2024-09-23T08:07:35.598419Z"
    }
   },
   "outputs": [
    {
     "name": "stdout",
     "output_type": "stream",
     "text": [
      "Optimal number of features: 5\n"
     ]
    },
    {
     "data": {
      "text/html": [
       "<div>\n",
       "<style scoped>\n",
       "    .dataframe tbody tr th:only-of-type {\n",
       "        vertical-align: middle;\n",
       "    }\n",
       "\n",
       "    .dataframe tbody tr th {\n",
       "        vertical-align: top;\n",
       "    }\n",
       "\n",
       "    .dataframe thead th {\n",
       "        text-align: right;\n",
       "    }\n",
       "</style>\n",
       "<table border=\"1\" class=\"dataframe\">\n",
       "  <thead>\n",
       "    <tr style=\"text-align: right;\">\n",
       "      <th></th>\n",
       "      <th>Feature</th>\n",
       "      <th>Ranking</th>\n",
       "    </tr>\n",
       "  </thead>\n",
       "  <tbody>\n",
       "    <tr>\n",
       "      <th>0</th>\n",
       "      <td>Pclass</td>\n",
       "      <td>1</td>\n",
       "    </tr>\n",
       "    <tr>\n",
       "      <th>1</th>\n",
       "      <td>Age</td>\n",
       "      <td>1</td>\n",
       "    </tr>\n",
       "    <tr>\n",
       "      <th>2</th>\n",
       "      <td>SibSp</td>\n",
       "      <td>1</td>\n",
       "    </tr>\n",
       "    <tr>\n",
       "      <th>4</th>\n",
       "      <td>Fare</td>\n",
       "      <td>1</td>\n",
       "    </tr>\n",
       "    <tr>\n",
       "      <th>5</th>\n",
       "      <td>Sex_male</td>\n",
       "      <td>1</td>\n",
       "    </tr>\n",
       "    <tr>\n",
       "      <th>3</th>\n",
       "      <td>Parch</td>\n",
       "      <td>2</td>\n",
       "    </tr>\n",
       "    <tr>\n",
       "      <th>7</th>\n",
       "      <td>Embarked_S</td>\n",
       "      <td>3</td>\n",
       "    </tr>\n",
       "    <tr>\n",
       "      <th>6</th>\n",
       "      <td>Embarked_Q</td>\n",
       "      <td>4</td>\n",
       "    </tr>\n",
       "  </tbody>\n",
       "</table>\n",
       "</div>"
      ],
      "text/plain": [
       "      Feature  Ranking\n",
       "0      Pclass        1\n",
       "1         Age        1\n",
       "2       SibSp        1\n",
       "4        Fare        1\n",
       "5    Sex_male        1\n",
       "3       Parch        2\n",
       "7  Embarked_S        3\n",
       "6  Embarked_Q        4"
      ]
     },
     "execution_count": 100,
     "metadata": {},
     "output_type": "execute_result"
    }
   ],
   "source": [
    "#Using RECURSIVE FEATURE ELEMINATION WITH CROSS-VALIDATION(RFECV)\n",
    "rfecv = RFECV(estimator=DecisionTreeClassifier(random_state = 42), step=1, cv=5, scoring='recall')\n",
    "rfecv.fit(X,y)\n",
    "\n",
    "# Number of features chosen\n",
    "print(\"Optimal number of features:\", rfecv.n_features_)\n",
    "\n",
    "pd.DataFrame({'Feature': X.columns, 'Ranking': rfecv.ranking_}).sort_values(by='Ranking')"
   ]
  },
  {
   "cell_type": "code",
   "execution_count": 101,
   "metadata": {
    "execution": {
     "iopub.execute_input": "2024-09-23T08:07:35.807110Z",
     "iopub.status.busy": "2024-09-23T08:07:35.806636Z",
     "iopub.status.idle": "2024-09-23T08:07:35.817838Z",
     "shell.execute_reply": "2024-09-23T08:07:35.816719Z",
     "shell.execute_reply.started": "2024-09-23T08:07:35.807057Z"
    }
   },
   "outputs": [],
   "source": [
    "# Using use Sex_male, Age, Fare, and Pclass as for the model based on both feature importance and RFE ranking.\n",
    "\n",
    "X_bagging = df[['Pclass', 'Age', 'SibSp', 'Fare', 'Sex_male']]\n",
    "y_bagging   = y\n",
    "\n",
    "# Split the data into training and testing sets\n",
    "X_train, X_test, y_train, y_test = train_test_split(X_random , y_random , test_size=0.20, random_state=42, stratify=y_random)"
   ]
  },
  {
   "cell_type": "code",
   "execution_count": 102,
   "metadata": {
    "execution": {
     "iopub.execute_input": "2024-09-23T08:07:35.819752Z",
     "iopub.status.busy": "2024-09-23T08:07:35.819260Z",
     "iopub.status.idle": "2024-09-23T08:07:35.840004Z",
     "shell.execute_reply": "2024-09-23T08:07:35.838719Z",
     "shell.execute_reply.started": "2024-09-23T08:07:35.819694Z"
    }
   },
   "outputs": [
    {
     "name": "stdout",
     "output_type": "stream",
     "text": [
      "Before Oversampling: Survived\n",
      "0    439\n",
      "1    273\n",
      "Name: count, dtype: int64\n",
      "\n",
      "\n",
      "After Oversampling: Survived\n",
      "0    439\n",
      "1    329\n",
      "Name: count, dtype: int64\n"
     ]
    }
   ],
   "source": [
    "#Oversampling\n",
    "\n",
    "#Before Oversampling\n",
    "print('Before Oversampling:', y_train.value_counts())\n",
    "\n",
    "# Applying oversampling SMOTE\n",
    "over_sampler = SMOTE(sampling_strategy=0.75,random_state=42,k_neighbors=3,n_jobs=None)\n",
    "X_train, y_train = over_sampler.fit_resample(X_train, y_train)\n",
    "\n",
    "print('\\n')\n",
    "\n",
    "#After Oversampling\n",
    "print('After Oversampling:', y_train.value_counts())"
   ]
  },
  {
   "cell_type": "code",
   "execution_count": 103,
   "metadata": {
    "execution": {
     "iopub.execute_input": "2024-09-23T08:07:35.842433Z",
     "iopub.status.busy": "2024-09-23T08:07:35.842055Z",
     "iopub.status.idle": "2024-09-23T08:07:47.329480Z",
     "shell.execute_reply": "2024-09-23T08:07:47.328284Z",
     "shell.execute_reply.started": "2024-09-23T08:07:35.842393Z"
    }
   },
   "outputs": [
    {
     "name": "stdout",
     "output_type": "stream",
     "text": [
      "Best Parameters: {'n_estimators': 100, 'max_samples': 0.7, 'max_features': 1.0, 'estimator__max_depth': 10, 'bootstrap_features': False, 'bootstrap': False}\n",
      "Training Classification Report:\n",
      "              precision    recall  f1-score   support\n",
      "\n",
      "           0       0.93      0.99      0.96       439\n",
      "           1       0.99      0.89      0.94       329\n",
      "\n",
      "    accuracy                           0.95       768\n",
      "   macro avg       0.96      0.94      0.95       768\n",
      "weighted avg       0.95      0.95      0.95       768\n",
      "\n",
      "Testing Classification Report:\n",
      "              precision    recall  f1-score   support\n",
      "\n",
      "           0       0.83      0.88      0.85       110\n",
      "           1       0.79      0.71      0.75        69\n",
      "\n",
      "    accuracy                           0.82       179\n",
      "   macro avg       0.81      0.80      0.80       179\n",
      "weighted avg       0.81      0.82      0.81       179\n",
      "\n"
     ]
    }
   ],
   "source": [
    "# Define the base model \n",
    "bagging_classifier = BaggingClassifier(estimator=DecisionTreeClassifier(), random_state=42)\n",
    "\n",
    "# Define the hyperparameter grid\n",
    "param_distributions = {\n",
    "    'n_estimators': [10, 50, 100, 200],\n",
    "    'estimator__max_depth': [None, 10, 20, 30],  # Note the change here as well\n",
    "    'max_samples': [0.5, 0.7, 1.0],\n",
    "    'max_features': [0.5, 0.7, 1.0],\n",
    "    'bootstrap': [True, False],\n",
    "    'bootstrap_features': [True, False]\n",
    "}\n",
    "\n",
    "# Perform RandomizedSearchCV\n",
    "random_search = RandomizedSearchCV(estimator=bagging_classifier, param_distributions=param_distributions, n_iter=10, cv=5, random_state=42)\n",
    "random_search.fit(X_train, y_train)\n",
    "\n",
    "# Print the best parameters\n",
    "print(\"Best Parameters:\", random_search.best_params_)\n",
    "\n",
    "best_model_bagging = random_search.best_estimator_\n",
    "\n",
    "# Predict on the training set\n",
    "y_train_pred = best_model_bagging.predict(X_train)\n",
    "\n",
    "# Predict on the test set\n",
    "y_test_pred = best_model_bagging.predict(X_test)\n",
    "\n",
    "# Generate the classification reports\n",
    "print(\"Training Classification Report:\")\n",
    "print(classification_report(y_train, y_train_pred))\n",
    "\n",
    "print(\"Testing Classification Report:\")\n",
    "print(classification_report(y_test, y_test_pred))"
   ]
  },
  {
   "cell_type": "code",
   "execution_count": null,
   "metadata": {},
   "outputs": [],
   "source": []
  },
  {
   "cell_type": "markdown",
   "metadata": {},
   "source": [
    "## Adaptive Boosting (AdaBoost)"
   ]
  },
  {
   "cell_type": "markdown",
   "metadata": {
    "execution": {
     "iopub.execute_input": "2024-09-19T08:59:04.279859Z",
     "iopub.status.busy": "2024-09-19T08:59:04.279341Z",
     "iopub.status.idle": "2024-09-19T08:59:04.286707Z",
     "shell.execute_reply": "2024-09-19T08:59:04.285550Z",
     "shell.execute_reply.started": "2024-09-19T08:59:04.279799Z"
    }
   },
   "source": [
    "#### Feature Importance"
   ]
  },
  {
   "cell_type": "code",
   "execution_count": 104,
   "metadata": {
    "execution": {
     "iopub.execute_input": "2024-09-23T08:07:47.331665Z",
     "iopub.status.busy": "2024-09-23T08:07:47.331328Z",
     "iopub.status.idle": "2024-09-23T08:08:09.236195Z",
     "shell.execute_reply": "2024-09-23T08:08:09.235142Z",
     "shell.execute_reply.started": "2024-09-23T08:07:47.331630Z"
    }
   },
   "outputs": [
    {
     "data": {
      "image/png": "[encoded data removed]",
      "text/plain": [
       "<Figure size 1000x600 with 1 Axes>"
      ]
     },
     "metadata": {},
     "output_type": "display_data"
    },
    {
     "data": {
      "text/plain": [
       "{1: ['Fare'],\n",
       " 2: ['Age', 'Fare'],\n",
       " 3: ['Age', 'SibSp', 'Fare'],\n",
       " 4: ['Pclass', 'Age', 'SibSp', 'Fare'],\n",
       " 5: ['Pclass', 'Age', 'SibSp', 'Fare', 'Sex_male'],\n",
       " 6: ['Pclass', 'Age', 'SibSp', 'Parch', 'Fare', 'Sex_male'],\n",
       " 7: ['Pclass', 'Age', 'SibSp', 'Parch', 'Fare', 'Sex_male', 'Embarked_S'],\n",
       " 8: ['Pclass',\n",
       "  'Age',\n",
       "  'SibSp',\n",
       "  'Parch',\n",
       "  'Fare',\n",
       "  'Sex_male',\n",
       "  'Embarked_Q',\n",
       "  'Embarked_S']}"
      ]
     },
     "execution_count": 104,
     "metadata": {},
     "output_type": "execute_result"
    }
   ],
   "source": [
    "scores = []\n",
    "selected_features_list = {}\n",
    "\n",
    "for i in range(1,X.shape[1]+1):\n",
    "    rfe = RFE(estimator=AdaBoostClassifier(random_state=42),n_features_to_select=i, step=1)\n",
    "    rfe.fit(X,y)\n",
    "    scoring='recall'\n",
    "    score = np.mean(cross_val_score(rfe, X, y, scoring=scoring, cv=5))\n",
    "    scores.append(score)\n",
    "    \n",
    "    # Save the names of selected features\n",
    "    selected_features_list[i] = X.columns[rfe.support_].tolist()  # Extracting the selected features based on boolean mask\n",
    "    \n",
    "# Plot the elbow curve\n",
    "plt.figure(figsize=(10, 6))\n",
    "plt.plot(range(1, X.shape[1] + 1), scores, marker='o')\n",
    "plt.title(\"Elbow Method for Feature Selection\")\n",
    "plt.xlabel(\"Number of Features\")\n",
    "plt.ylabel(f\"Cross-Validation {scoring}\")\n",
    "plt.show()\n",
    "selected_features_list"
   ]
  },
  {
   "cell_type": "code",
   "execution_count": 105,
   "metadata": {
    "execution": {
     "iopub.execute_input": "2024-09-23T08:08:09.238988Z",
     "iopub.status.busy": "2024-09-23T08:08:09.238109Z",
     "iopub.status.idle": "2024-09-23T08:08:13.937117Z",
     "shell.execute_reply": "2024-09-23T08:08:13.936108Z",
     "shell.execute_reply.started": "2024-09-23T08:08:09.238935Z"
    }
   },
   "outputs": [
    {
     "name": "stdout",
     "output_type": "stream",
     "text": [
      "Optimal number of features: 5\n"
     ]
    },
    {
     "data": {
      "text/html": [
       "<div>\n",
       "<style scoped>\n",
       "    .dataframe tbody tr th:only-of-type {\n",
       "        vertical-align: middle;\n",
       "    }\n",
       "\n",
       "    .dataframe tbody tr th {\n",
       "        vertical-align: top;\n",
       "    }\n",
       "\n",
       "    .dataframe thead th {\n",
       "        text-align: right;\n",
       "    }\n",
       "</style>\n",
       "<table border=\"1\" class=\"dataframe\">\n",
       "  <thead>\n",
       "    <tr style=\"text-align: right;\">\n",
       "      <th></th>\n",
       "      <th>Feature</th>\n",
       "      <th>Ranking</th>\n",
       "    </tr>\n",
       "  </thead>\n",
       "  <tbody>\n",
       "    <tr>\n",
       "      <th>0</th>\n",
       "      <td>Pclass</td>\n",
       "      <td>1</td>\n",
       "    </tr>\n",
       "    <tr>\n",
       "      <th>1</th>\n",
       "      <td>Age</td>\n",
       "      <td>1</td>\n",
       "    </tr>\n",
       "    <tr>\n",
       "      <th>2</th>\n",
       "      <td>SibSp</td>\n",
       "      <td>1</td>\n",
       "    </tr>\n",
       "    <tr>\n",
       "      <th>4</th>\n",
       "      <td>Fare</td>\n",
       "      <td>1</td>\n",
       "    </tr>\n",
       "    <tr>\n",
       "      <th>5</th>\n",
       "      <td>Sex_male</td>\n",
       "      <td>1</td>\n",
       "    </tr>\n",
       "    <tr>\n",
       "      <th>3</th>\n",
       "      <td>Parch</td>\n",
       "      <td>2</td>\n",
       "    </tr>\n",
       "    <tr>\n",
       "      <th>7</th>\n",
       "      <td>Embarked_S</td>\n",
       "      <td>3</td>\n",
       "    </tr>\n",
       "    <tr>\n",
       "      <th>6</th>\n",
       "      <td>Embarked_Q</td>\n",
       "      <td>4</td>\n",
       "    </tr>\n",
       "  </tbody>\n",
       "</table>\n",
       "</div>"
      ],
      "text/plain": [
       "      Feature  Ranking\n",
       "0      Pclass        1\n",
       "1         Age        1\n",
       "2       SibSp        1\n",
       "4        Fare        1\n",
       "5    Sex_male        1\n",
       "3       Parch        2\n",
       "7  Embarked_S        3\n",
       "6  Embarked_Q        4"
      ]
     },
     "execution_count": 105,
     "metadata": {},
     "output_type": "execute_result"
    }
   ],
   "source": [
    "rfecv = RFECV(estimator=AdaBoostClassifier(random_state = 42), step=1, cv=5, scoring='recall')\n",
    "rfecv.fit(X,y)\n",
    "# Number of features chosen\n",
    "print(\"Optimal number of features:\", rfecv.n_features_)\n",
    "\n",
    "pd.DataFrame({'Feature': X.columns, 'Ranking': rfecv.ranking_}).sort_values(by='Ranking')"
   ]
  },
  {
   "cell_type": "code",
   "execution_count": 106,
   "metadata": {
    "execution": {
     "iopub.execute_input": "2024-09-23T08:08:13.939115Z",
     "iopub.status.busy": "2024-09-23T08:08:13.938676Z",
     "iopub.status.idle": "2024-09-23T08:08:13.949204Z",
     "shell.execute_reply": "2024-09-23T08:08:13.948151Z",
     "shell.execute_reply.started": "2024-09-23T08:08:13.939066Z"
    }
   },
   "outputs": [],
   "source": [
    "X_adaboost = X[['Pclass','Age','SibSp','Fare','Sex_male']]\n",
    "y_adaboost = y\n",
    "\n",
    "# Split the data into training and testing sets\n",
    "X_train, X_test, y_train, y_test = train_test_split(X_decision, y_decision, test_size=0.20, random_state=42, stratify=y_decision)"
   ]
  },
  {
   "cell_type": "code",
   "execution_count": 107,
   "metadata": {
    "execution": {
     "iopub.execute_input": "2024-09-23T08:08:13.951070Z",
     "iopub.status.busy": "2024-09-23T08:08:13.950713Z",
     "iopub.status.idle": "2024-09-23T08:08:13.967727Z",
     "shell.execute_reply": "2024-09-23T08:08:13.966277Z",
     "shell.execute_reply.started": "2024-09-23T08:08:13.951023Z"
    }
   },
   "outputs": [
    {
     "name": "stdout",
     "output_type": "stream",
     "text": [
      "Before Oversampling: Survived\n",
      "0    439\n",
      "1    273\n",
      "Name: count, dtype: int64\n",
      "\n",
      "\n",
      "After Oversampling: Survived\n",
      "0    439\n",
      "1    329\n",
      "Name: count, dtype: int64\n"
     ]
    }
   ],
   "source": [
    "#Oversampling\n",
    "\n",
    "#Before Oversampling\n",
    "print('Before Oversampling:', y_train.value_counts())\n",
    "\n",
    "# Applying oversampling SMOTE\n",
    "over_sampler = SMOTE(sampling_strategy=0.75,random_state=42,k_neighbors=3,n_jobs=None)\n",
    "X_train, y_train = over_sampler.fit_resample(X_train, y_train)\n",
    "\n",
    "print('\\n')\n",
    "\n",
    "#After Oversampling\n",
    "print('After Oversampling:', y_train.value_counts())"
   ]
  },
  {
   "cell_type": "code",
   "execution_count": 108,
   "metadata": {
    "execution": {
     "iopub.execute_input": "2024-09-23T08:08:13.969767Z",
     "iopub.status.busy": "2024-09-23T08:08:13.969314Z",
     "iopub.status.idle": "2024-09-23T08:08:57.792285Z",
     "shell.execute_reply": "2024-09-23T08:08:57.791021Z",
     "shell.execute_reply.started": "2024-09-23T08:08:13.969728Z"
    }
   },
   "outputs": [
    {
     "name": "stdout",
     "output_type": "stream",
     "text": [
      "Best Parameters: {'n_estimators': 500, 'learning_rate': 0.1, 'estimator__max_depth': 4, 'algorithm': 'SAMME'}\n",
      "Training Classification Report:\n",
      "              precision    recall  f1-score   support\n",
      "\n",
      "           0       0.88      0.90      0.89       439\n",
      "           1       0.87      0.84      0.85       329\n",
      "\n",
      "    accuracy                           0.88       768\n",
      "   macro avg       0.87      0.87      0.87       768\n",
      "weighted avg       0.87      0.88      0.87       768\n",
      "\n",
      "Testing Classification Report:\n",
      "              precision    recall  f1-score   support\n",
      "\n",
      "           0       0.83      0.85      0.84       110\n",
      "           1       0.76      0.72      0.74        69\n",
      "\n",
      "    accuracy                           0.80       179\n",
      "   macro avg       0.79      0.79      0.79       179\n",
      "weighted avg       0.80      0.80      0.80       179\n",
      "\n"
     ]
    }
   ],
   "source": [
    "# Define the base model \n",
    "adaboost = AdaBoostClassifier(estimator=DecisionTreeClassifier(), random_state=42)\n",
    "\n",
    "# Hyperparameter grid with 'estimator__max_depth'\n",
    "param_distributions = {\n",
    "    'n_estimators': [50, 100, 200, 300, 500],  \n",
    "    'learning_rate': [0.01, 0.1, 0.5, 1.0],   \n",
    "    'estimator__max_depth': [1, 2, 3, 4, 5], \n",
    "    'algorithm': ['SAMME', 'SAMME.R']  \n",
    "}\n",
    "\n",
    "# Create a StratifiedKFold object\n",
    "# stratified_kfold = StratifiedKFold(n_splits=5, shuffle=True, random_state=42)\n",
    "\n",
    "# RandomizedSearchCV\n",
    "random_search = RandomizedSearchCV(estimator=adaboost, param_distributions=param_distributions, n_iter=10, cv=10, random_state=42)\n",
    "random_search.fit(X_train, y_train)\n",
    "\n",
    "# Print the best parameters\n",
    "print(\"Best Parameters:\", random_search.best_params_)\n",
    "\n",
    "# Get the best model\n",
    "best_model_adaboost = random_search.best_estimator_\n",
    "\n",
    "# Predict on the training set\n",
    "y_train_pred = best_model_adaboost.predict(X_train)\n",
    "\n",
    "# Predict on the test set\n",
    "y_test_pred = best_model_adaboost.predict(X_test)\n",
    "\n",
    "# classification reports\n",
    "print(\"Training Classification Report:\")\n",
    "print(classification_report(y_train, y_train_pred))\n",
    "\n",
    "print(\"Testing Classification Report:\")\n",
    "print(classification_report(y_test, y_test_pred))"
   ]
  },
  {
   "cell_type": "code",
   "execution_count": null,
   "metadata": {},
   "outputs": [],
   "source": []
  },
  {
   "cell_type": "markdown",
   "metadata": {},
   "source": [
    "##  Gradient Boosting"
   ]
  },
  {
   "cell_type": "markdown",
   "metadata": {},
   "source": [
    "#### Feature Importance"
   ]
  },
  {
   "cell_type": "code",
   "execution_count": 109,
   "metadata": {
    "execution": {
     "iopub.execute_input": "2024-09-23T08:08:57.794046Z",
     "iopub.status.busy": "2024-09-23T08:08:57.793684Z",
     "iopub.status.idle": "2024-09-23T08:09:11.278115Z",
     "shell.execute_reply": "2024-09-23T08:09:11.276964Z",
     "shell.execute_reply.started": "2024-09-23T08:08:57.794007Z"
    }
   },
   "outputs": [
    {
     "data": {
      "image/png": "[encoded data removed]",
      "text/plain": [
       "<Figure size 1000x600 with 1 Axes>"
      ]
     },
     "metadata": {},
     "output_type": "display_data"
    }
   ],
   "source": [
    "#Calculating optimal number of features i\n",
    "\n",
    "scores = []\n",
    "\n",
    "for i in range(1,X.shape[1]+1):\n",
    "    rfe = RFE(estimator= xgb.XGBClassifier(random_state=42),n_features_to_select=i)\n",
    "    rfe.fit(X,y)\n",
    "    scoring='recall'\n",
    "    # Perform cross-validation\n",
    "    score = np.mean(cross_val_score(rfe, X, y, cv=5, scoring=scoring))\n",
    "    scores.append(score)\n",
    "\n",
    "# Plot the elbow curve\n",
    "plt.figure(figsize=(10, 6))\n",
    "plt.plot(range(1, X.shape[1] + 1), scores, marker='o')\n",
    "plt.title(\"Elbow Method for Feature Selection\")\n",
    "plt.xlabel(\"Number of Features\")\n",
    "plt.ylabel(f\"Cross-Validation {scoring}\")\n",
    "plt.show()"
   ]
  },
  {
   "cell_type": "code",
   "execution_count": 110,
   "metadata": {
    "execution": {
     "iopub.execute_input": "2024-09-23T08:09:11.280201Z",
     "iopub.status.busy": "2024-09-23T08:09:11.279751Z",
     "iopub.status.idle": "2024-09-23T08:09:13.533878Z",
     "shell.execute_reply": "2024-09-23T08:09:13.532788Z",
     "shell.execute_reply.started": "2024-09-23T08:09:11.280151Z"
    }
   },
   "outputs": [
    {
     "name": "stdout",
     "output_type": "stream",
     "text": [
      "Optimal number of features: 7\n"
     ]
    },
    {
     "data": {
      "text/html": [
       "<div>\n",
       "<style scoped>\n",
       "    .dataframe tbody tr th:only-of-type {\n",
       "        vertical-align: middle;\n",
       "    }\n",
       "\n",
       "    .dataframe tbody tr th {\n",
       "        vertical-align: top;\n",
       "    }\n",
       "\n",
       "    .dataframe thead th {\n",
       "        text-align: right;\n",
       "    }\n",
       "</style>\n",
       "<table border=\"1\" class=\"dataframe\">\n",
       "  <thead>\n",
       "    <tr style=\"text-align: right;\">\n",
       "      <th></th>\n",
       "      <th>Feature</th>\n",
       "      <th>Ranking</th>\n",
       "    </tr>\n",
       "  </thead>\n",
       "  <tbody>\n",
       "    <tr>\n",
       "      <th>0</th>\n",
       "      <td>Pclass</td>\n",
       "      <td>1</td>\n",
       "    </tr>\n",
       "    <tr>\n",
       "      <th>1</th>\n",
       "      <td>Age</td>\n",
       "      <td>1</td>\n",
       "    </tr>\n",
       "    <tr>\n",
       "      <th>2</th>\n",
       "      <td>SibSp</td>\n",
       "      <td>1</td>\n",
       "    </tr>\n",
       "    <tr>\n",
       "      <th>3</th>\n",
       "      <td>Parch</td>\n",
       "      <td>1</td>\n",
       "    </tr>\n",
       "    <tr>\n",
       "      <th>4</th>\n",
       "      <td>Fare</td>\n",
       "      <td>1</td>\n",
       "    </tr>\n",
       "    <tr>\n",
       "      <th>5</th>\n",
       "      <td>Sex_male</td>\n",
       "      <td>1</td>\n",
       "    </tr>\n",
       "    <tr>\n",
       "      <th>7</th>\n",
       "      <td>Embarked_S</td>\n",
       "      <td>1</td>\n",
       "    </tr>\n",
       "    <tr>\n",
       "      <th>6</th>\n",
       "      <td>Embarked_Q</td>\n",
       "      <td>2</td>\n",
       "    </tr>\n",
       "  </tbody>\n",
       "</table>\n",
       "</div>"
      ],
      "text/plain": [
       "      Feature  Ranking\n",
       "0      Pclass        1\n",
       "1         Age        1\n",
       "2       SibSp        1\n",
       "3       Parch        1\n",
       "4        Fare        1\n",
       "5    Sex_male        1\n",
       "7  Embarked_S        1\n",
       "6  Embarked_Q        2"
      ]
     },
     "execution_count": 110,
     "metadata": {},
     "output_type": "execute_result"
    }
   ],
   "source": [
    "#Using RECURSIVE FEATURE ELEMINATION WITH CROSS-VALIDATION(RFECV)\n",
    "rfecv = RFECV(estimator=xgb.XGBClassifier(random_state=42), step=1, cv=5, scoring='recall')\n",
    "rfecv.fit(X,y)\n",
    "\n",
    "# Number of features chosen\n",
    "print(\"Optimal number of features:\", rfecv.n_features_)\n",
    "\n",
    "pd.DataFrame({'Feature': X.columns, 'Ranking': rfecv.ranking_}).sort_values(by='Ranking')"
   ]
  },
  {
   "cell_type": "code",
   "execution_count": 111,
   "metadata": {
    "execution": {
     "iopub.execute_input": "2024-09-23T08:09:13.536098Z",
     "iopub.status.busy": "2024-09-23T08:09:13.535264Z",
     "iopub.status.idle": "2024-09-23T08:09:13.546736Z",
     "shell.execute_reply": "2024-09-23T08:09:13.545700Z",
     "shell.execute_reply.started": "2024-09-23T08:09:13.536055Z"
    }
   },
   "outputs": [],
   "source": [
    "X_gradient = X[['Pclass','Age','SibSp','Fare','Parch','Fare','Sex_male']]\n",
    "y_gradient = y\n",
    "\n",
    "# Split the data into training and testing sets\n",
    "X_train, X_test, y_train, y_test = train_test_split(X_decision, y_decision, test_size=0.20, random_state=42, stratify=y_decision)"
   ]
  },
  {
   "cell_type": "code",
   "execution_count": 112,
   "metadata": {
    "execution": {
     "iopub.execute_input": "2024-09-23T08:09:13.548627Z",
     "iopub.status.busy": "2024-09-23T08:09:13.548244Z",
     "iopub.status.idle": "2024-09-23T08:09:13.566618Z",
     "shell.execute_reply": "2024-09-23T08:09:13.565292Z",
     "shell.execute_reply.started": "2024-09-23T08:09:13.548587Z"
    }
   },
   "outputs": [
    {
     "name": "stdout",
     "output_type": "stream",
     "text": [
      "Before Oversampling: Survived\n",
      "0    439\n",
      "1    273\n",
      "Name: count, dtype: int64\n",
      "\n",
      "\n",
      "After Oversampling: Survived\n",
      "0    439\n",
      "1    329\n",
      "Name: count, dtype: int64\n"
     ]
    }
   ],
   "source": [
    "#Oversampling\n",
    "\n",
    "#Before Oversampling\n",
    "print('Before Oversampling:', y_train.value_counts())\n",
    "\n",
    "# Applying oversampling SMOTE\n",
    "over_sampler = SMOTE(sampling_strategy=0.75,random_state=42,k_neighbors=3,n_jobs=None)\n",
    "X_train, y_train = over_sampler.fit_resample(X_train, y_train)\n",
    "\n",
    "print('\\n')\n",
    "\n",
    "#After Oversampling\n",
    "print('After Oversampling:', y_train.value_counts())"
   ]
  },
  {
   "cell_type": "code",
   "execution_count": 113,
   "metadata": {
    "execution": {
     "iopub.execute_input": "2024-09-23T08:09:13.568746Z",
     "iopub.status.busy": "2024-09-23T08:09:13.568277Z",
     "iopub.status.idle": "2024-09-23T08:09:15.992067Z",
     "shell.execute_reply": "2024-09-23T08:09:15.991092Z",
     "shell.execute_reply.started": "2024-09-23T08:09:13.568696Z"
    }
   },
   "outputs": [
    {
     "name": "stdout",
     "output_type": "stream",
     "text": [
      "Fitting 5 folds for each of 10 candidates, totalling 50 fits\n",
      "Best Parameters: {'subsample': 0.6, 'reg_lambda': 0.01, 'reg_alpha': 0, 'n_estimators': 200, 'min_child_weight': 3, 'max_depth': 3, 'learning_rate': 0.1, 'gamma': 0.2, 'colsample_bytree': 0.6}\n",
      "Training Classification Report:\n",
      "              precision    recall  f1-score   support\n",
      "\n",
      "           0       0.87      0.92      0.90       439\n",
      "           1       0.89      0.81      0.85       329\n",
      "\n",
      "    accuracy                           0.88       768\n",
      "   macro avg       0.88      0.87      0.87       768\n",
      "weighted avg       0.88      0.88      0.88       768\n",
      "\n",
      "Testing Classification Report:\n",
      "              precision    recall  f1-score   support\n",
      "\n",
      "           0       0.83      0.91      0.87       110\n",
      "           1       0.83      0.70      0.76        69\n",
      "\n",
      "    accuracy                           0.83       179\n",
      "   macro avg       0.83      0.80      0.81       179\n",
      "weighted avg       0.83      0.83      0.82       179\n",
      "\n"
     ]
    }
   ],
   "source": [
    "# Hyperparameter grid for tuning\n",
    "param_grid = {\n",
    "    'n_estimators': [100, 200, 300, 500],          \n",
    "    'learning_rate': [0.01, 0.1, 0.2, 0.3],       \n",
    "    'max_depth': [3, 5, 7],                       \n",
    "    'min_child_weight': [1, 3, 5],                \n",
    "    'subsample': [0.6, 0.8, 1.0],               \n",
    "    'colsample_bytree': [0.6, 0.8, 1.0],        \n",
    "    'gamma': [0, 0.1, 0.2],                     \n",
    "    'reg_alpha': [0, 0.01, 0.1, 1.0],           \n",
    "    'reg_lambda': [0, 0.01, 0.1, 1.0]            \n",
    "}\n",
    "\n",
    "# Perform RandomizedSearchCV for hyperparameter tuning\n",
    "random_search = RandomizedSearchCV(estimator=xgb.XGBClassifier(random_state=42), param_distributions=param_grid, n_iter=10, scoring='accuracy', cv=5, random_state=42, verbose=1, n_jobs=-1)\n",
    "random_search.fit(X_train, y_train)\n",
    "\n",
    "# Print the best parameters found by RandomizedSearchCV\n",
    "print(\"Best Parameters:\", random_search.best_params_)\n",
    "\n",
    "# Get the best model\n",
    "best_model_gradient = random_search.best_estimator_\n",
    "\n",
    "# Predict on the training set\n",
    "y_train_pred = best_model_gradient.predict(X_train)\n",
    "\n",
    "# Predict on the test set\n",
    "y_test_pred = best_model_gradient.predict(X_test)\n",
    "\n",
    "# Classification report for training set\n",
    "print(\"Training Classification Report:\")\n",
    "print(classification_report(y_train, y_train_pred))\n",
    "\n",
    "# Classification report for testing set\n",
    "print(\"Testing Classification Report:\")\n",
    "print(classification_report(y_test, y_test_pred))"
   ]
  },
  {
   "cell_type": "code",
   "execution_count": null,
   "metadata": {},
   "outputs": [],
   "source": []
  },
  {
   "cell_type": "markdown",
   "metadata": {},
   "source": [
    "## SUPPORT VECTOR MACHINE(SVM)"
   ]
  },
  {
   "cell_type": "markdown",
   "metadata": {},
   "source": [
    "#### Feature Selection"
   ]
  },
  {
   "cell_type": "code",
   "execution_count": 114,
   "metadata": {
    "execution": {
     "iopub.execute_input": "2024-09-23T08:09:15.993982Z",
     "iopub.status.busy": "2024-09-23T08:09:15.993537Z",
     "iopub.status.idle": "2024-09-23T08:09:42.871832Z",
     "shell.execute_reply": "2024-09-23T08:09:42.870654Z",
     "shell.execute_reply.started": "2024-09-23T08:09:15.993931Z"
    }
   },
   "outputs": [
    {
     "name": "stdout",
     "output_type": "stream",
     "text": [
      "Best parameters found:  {'kernel': 'linear'}\n",
      "Best recall score:  0.6811594202898551\n"
     ]
    }
   ],
   "source": [
    "# Using pretuned best models \n",
    "\n",
    "param_grid = {\n",
    "    'kernel': ['linear', 'poly', 'rbf', 'sigmoid']\n",
    "}\n",
    "\n",
    "# Instantiate the SVC\n",
    "svc = SVC()\n",
    "\n",
    "scoring = 'recall'\n",
    "\n",
    "# Perform Grid Search with Cross-Validation (5-fold)\n",
    "grid_search = GridSearchCV(svc, param_grid, cv=5, scoring=scoring, n_jobs=-1)\n",
    "grid_search.fit(X, y)\n",
    "\n",
    "# Best kernel and parameters\n",
    "print(\"Best parameters found: \", grid_search.best_params_)\n",
    "print(f\"Best {scoring} score: \", grid_search.best_score_)"
   ]
  },
  {
   "cell_type": "code",
   "execution_count": 115,
   "metadata": {
    "execution": {
     "iopub.execute_input": "2024-09-23T08:09:42.873673Z",
     "iopub.status.busy": "2024-09-23T08:09:42.873311Z",
     "iopub.status.idle": "2024-09-23T08:09:42.881595Z",
     "shell.execute_reply": "2024-09-23T08:09:42.880522Z",
     "shell.execute_reply.started": "2024-09-23T08:09:42.873636Z"
    }
   },
   "outputs": [],
   "source": [
    "# # The linear kernel is the best, we can now use it with Recursive Feature Elimination (RFE).\n",
    "\n",
    "# scores = []\n",
    "# selected_features_list = {}\n",
    "\n",
    "# for i in range(1,X.shape[1]+1):\n",
    "#     rfe = RFE(estimator=SVC(kernel='linear', random_state=42),n_features_to_select=i, step=1)\n",
    "#     rfe.fit(X,y)\n",
    "#     scoring='recall'\n",
    "#     score = np.mean(cross_val_score(rfe, X, y, scoring=scoring, cv=5))\n",
    "#     scores.append(score)\n",
    "    \n",
    "#     # Save the names of selected features\n",
    "#     selected_features_list[i] = X.columns[rfe.support_].tolist()  # Extracting the selected features based on boolean mask\n",
    "    \n",
    "# # Plot the elbow curve\n",
    "# plt.figure(figsize=(10, 6))\n",
    "# plt.plot(range(1, X.shape[1] + 1), scores, marker='o')\n",
    "# plt.title(\"Elbow Method for Feature Selection\")\n",
    "# plt.xlabel(\"Number of Features\")\n",
    "# plt.ylabel(f\"Cross-Validation {scoring}\")\n",
    "# plt.show()\n",
    "# selected_features_list"
   ]
  },
  {
   "cell_type": "code",
   "execution_count": 116,
   "metadata": {
    "execution": {
     "iopub.execute_input": "2024-09-23T08:09:42.883152Z",
     "iopub.status.busy": "2024-09-23T08:09:42.882790Z",
     "iopub.status.idle": "2024-09-23T08:10:39.401542Z",
     "shell.execute_reply": "2024-09-23T08:10:39.400575Z",
     "shell.execute_reply.started": "2024-09-23T08:09:42.883116Z"
    }
   },
   "outputs": [
    {
     "name": "stdout",
     "output_type": "stream",
     "text": [
      "Optimal number of features: 1\n"
     ]
    },
    {
     "data": {
      "text/html": [
       "<div>\n",
       "<style scoped>\n",
       "    .dataframe tbody tr th:only-of-type {\n",
       "        vertical-align: middle;\n",
       "    }\n",
       "\n",
       "    .dataframe tbody tr th {\n",
       "        vertical-align: top;\n",
       "    }\n",
       "\n",
       "    .dataframe thead th {\n",
       "        text-align: right;\n",
       "    }\n",
       "</style>\n",
       "<table border=\"1\" class=\"dataframe\">\n",
       "  <thead>\n",
       "    <tr style=\"text-align: right;\">\n",
       "      <th></th>\n",
       "      <th>Feature</th>\n",
       "      <th>Ranking</th>\n",
       "    </tr>\n",
       "  </thead>\n",
       "  <tbody>\n",
       "    <tr>\n",
       "      <th>5</th>\n",
       "      <td>Sex_male</td>\n",
       "      <td>1</td>\n",
       "    </tr>\n",
       "    <tr>\n",
       "      <th>0</th>\n",
       "      <td>Pclass</td>\n",
       "      <td>2</td>\n",
       "    </tr>\n",
       "    <tr>\n",
       "      <th>2</th>\n",
       "      <td>SibSp</td>\n",
       "      <td>3</td>\n",
       "    </tr>\n",
       "    <tr>\n",
       "      <th>7</th>\n",
       "      <td>Embarked_S</td>\n",
       "      <td>4</td>\n",
       "    </tr>\n",
       "    <tr>\n",
       "      <th>3</th>\n",
       "      <td>Parch</td>\n",
       "      <td>5</td>\n",
       "    </tr>\n",
       "    <tr>\n",
       "      <th>4</th>\n",
       "      <td>Fare</td>\n",
       "      <td>6</td>\n",
       "    </tr>\n",
       "    <tr>\n",
       "      <th>1</th>\n",
       "      <td>Age</td>\n",
       "      <td>7</td>\n",
       "    </tr>\n",
       "    <tr>\n",
       "      <th>6</th>\n",
       "      <td>Embarked_Q</td>\n",
       "      <td>8</td>\n",
       "    </tr>\n",
       "  </tbody>\n",
       "</table>\n",
       "</div>"
      ],
      "text/plain": [
       "      Feature  Ranking\n",
       "5    Sex_male        1\n",
       "0      Pclass        2\n",
       "2       SibSp        3\n",
       "7  Embarked_S        4\n",
       "3       Parch        5\n",
       "4        Fare        6\n",
       "1         Age        7\n",
       "6  Embarked_Q        8"
      ]
     },
     "execution_count": 116,
     "metadata": {},
     "output_type": "execute_result"
    }
   ],
   "source": [
    "# The linear kernel is the best, we can now use it with Recursive Feature Elimination (RFE).\n",
    "\n",
    "rfecv = RFECV(estimator=SVC(kernel='linear', random_state=42), step=1, cv=5, scoring='recall')\n",
    "rfecv.fit(X,y)\n",
    "# Number of features chosen\n",
    "print(\"Optimal number of features:\", rfecv.n_features_)\n",
    "\n",
    "pd.DataFrame({'Feature': X.columns, 'Ranking': rfecv.ranking_}).sort_values(by='Ranking')"
   ]
  },
  {
   "cell_type": "code",
   "execution_count": 117,
   "metadata": {
    "execution": {
     "iopub.execute_input": "2024-09-23T08:10:39.403431Z",
     "iopub.status.busy": "2024-09-23T08:10:39.402962Z",
     "iopub.status.idle": "2024-09-23T08:10:39.413124Z",
     "shell.execute_reply": "2024-09-23T08:10:39.412155Z",
     "shell.execute_reply.started": "2024-09-23T08:10:39.403380Z"
    }
   },
   "outputs": [],
   "source": [
    "#RFECV identified only 'Sex_male' \n",
    "\n",
    "X_svm = X[['Sex_male']]\n",
    "y_svm  = y\n",
    "\n",
    "# Split the data into training and testing sets\n",
    "X_train, X_test, y_train, y_test = train_test_split(X_decision, y_decision, test_size=0.20, random_state=42, stratify=y_decision)"
   ]
  },
  {
   "cell_type": "code",
   "execution_count": 118,
   "metadata": {
    "execution": {
     "iopub.execute_input": "2024-09-23T08:10:39.414781Z",
     "iopub.status.busy": "2024-09-23T08:10:39.414425Z",
     "iopub.status.idle": "2024-09-23T08:10:39.436964Z",
     "shell.execute_reply": "2024-09-23T08:10:39.435804Z",
     "shell.execute_reply.started": "2024-09-23T08:10:39.414747Z"
    }
   },
   "outputs": [
    {
     "name": "stdout",
     "output_type": "stream",
     "text": [
      "Before Oversampling: Survived\n",
      "0    439\n",
      "1    273\n",
      "Name: count, dtype: int64\n",
      "\n",
      "\n",
      "After Oversampling: Survived\n",
      "0    439\n",
      "1    329\n",
      "Name: count, dtype: int64\n"
     ]
    }
   ],
   "source": [
    "#Oversampling\n",
    "\n",
    "#Before Oversampling\n",
    "print('Before Oversampling:', y_train.value_counts())\n",
    "\n",
    "# Applying oversampling SMOTE\n",
    "over_sampler = SMOTE(sampling_strategy=0.75,random_state=42,k_neighbors=3,n_jobs=None)\n",
    "X_train, y_train = over_sampler.fit_resample(X_train, y_train)\n",
    "\n",
    "print('\\n')\n",
    "\n",
    "#After Oversampling\n",
    "print('After Oversampling:', y_train.value_counts())"
   ]
  },
  {
   "cell_type": "code",
   "execution_count": 119,
   "metadata": {
    "execution": {
     "iopub.execute_input": "2024-09-23T08:10:39.438598Z",
     "iopub.status.busy": "2024-09-23T08:10:39.438250Z",
     "iopub.status.idle": "2024-09-23T08:16:37.677547Z",
     "shell.execute_reply": "2024-09-23T08:16:37.676384Z",
     "shell.execute_reply.started": "2024-09-23T08:10:39.438560Z"
    }
   },
   "outputs": [
    {
     "name": "stdout",
     "output_type": "stream",
     "text": [
      "Fitting 5 folds for each of 10 candidates, totalling 50 fits\n",
      "Best Parameters: {'kernel': 'linear', 'gamma': 1, 'degree': 3, 'C': 100}\n",
      "Training Classification Report:\n",
      "              precision    recall  f1-score   support\n",
      "\n",
      "           0       0.78      0.85      0.82       439\n",
      "           1       0.78      0.68      0.73       329\n",
      "\n",
      "    accuracy                           0.78       768\n",
      "   macro avg       0.78      0.77      0.77       768\n",
      "weighted avg       0.78      0.78      0.78       768\n",
      "\n",
      "Testing Classification Report:\n",
      "              precision    recall  f1-score   support\n",
      "\n",
      "           0       0.80      0.85      0.82       110\n",
      "           1       0.74      0.65      0.69        69\n",
      "\n",
      "    accuracy                           0.78       179\n",
      "   macro avg       0.77      0.75      0.76       179\n",
      "weighted avg       0.77      0.78      0.77       179\n",
      "\n"
     ]
    }
   ],
   "source": [
    "# RandomizedSearchCV\n",
    "param_grid = {\n",
    "    'C': [0.1, 1, 10, 100],           \n",
    "    'gamma': [1, 0.1, 0.01, 0.001],   \n",
    "    'kernel': ['linear'],  \n",
    "    'degree': [2, 3, 4]              \n",
    "}\n",
    "\n",
    "# Initialize SVC model\n",
    "svc = SVC(random_state=42)\n",
    "\n",
    "# RandomizedSearchCV for hyperparameter tuning\n",
    "random_search = RandomizedSearchCV(estimator=svc, param_distributions=param_grid, \n",
    "                                   n_iter=10, cv=5, verbose=2, random_state=42, n_jobs=-1, scoring='accuracy')\n",
    "\n",
    "# Fit the model with the best hyperparameters\n",
    "random_search.fit(X_train, y_train)\n",
    "\n",
    "# Print the best parameters found by RandomizedSearchCV\n",
    "print(\"Best Parameters:\", random_search.best_params_)\n",
    "\n",
    "# Get the best model\n",
    "best_model_svc = random_search.best_estimator_\n",
    "\n",
    "# Predict on the training set\n",
    "y_train_pred = best_model_svc.predict(X_train)\n",
    "\n",
    "# Predict on the test set\n",
    "y_test_pred = best_model_svc.predict(X_test)\n",
    "\n",
    "# Classification report for training set\n",
    "print(\"Training Classification Report:\")\n",
    "print(classification_report(y_train, y_train_pred))\n",
    "\n",
    "# Classification report for testing set\n",
    "print(\"Testing Classification Report:\")\n",
    "print(classification_report(y_test, y_test_pred))"
   ]
  },
  {
   "cell_type": "code",
   "execution_count": null,
   "metadata": {},
   "outputs": [],
   "source": []
  },
  {
   "cell_type": "markdown",
   "metadata": {},
   "source": [
    "## Ensemble Stacking"
   ]
  },
  {
   "cell_type": "code",
   "execution_count": 120,
   "metadata": {
    "execution": {
     "iopub.execute_input": "2024-09-23T08:16:37.679534Z",
     "iopub.status.busy": "2024-09-23T08:16:37.679070Z",
     "iopub.status.idle": "2024-09-23T08:19:49.113420Z",
     "shell.execute_reply": "2024-09-23T08:19:49.112265Z",
     "shell.execute_reply.started": "2024-09-23T08:16:37.679464Z"
    }
   },
   "outputs": [
    {
     "name": "stdout",
     "output_type": "stream",
     "text": [
      "LogisticRegression Meta-Model - Mean CV recall: 0.7694\n",
      "RandomForest Meta-Model - Mean CV recall: 0.7418\n",
      "SVC Meta-Model - Mean CV recall: 0.7541\n",
      "XGBClassifier Meta-Model - Mean CV recall: 0.7419\n"
     ]
    }
   ],
   "source": [
    "#Determining the best meta model's algorithm\n",
    "\n",
    "# Base models\n",
    "base_models = [\n",
    "    ('logistic', best_model_logistic),\n",
    "    ('decision_tree', best_model_decision),\n",
    "    ('random_forest', best_model_random),\n",
    "    ('bagging', best_model_bagging),\n",
    "    ('adaboost', best_model_adaboost),\n",
    "    ('gradient_boost', best_model_gradient),\n",
    "]\n",
    "\n",
    "# Meta-models to test\n",
    "meta_models = {\n",
    "    'LogisticRegression': LogisticRegression(random_state=42),\n",
    "    'RandomForest': RandomForestClassifier(random_state=42),\n",
    "    'SVC': SVC(kernel='linear', random_state=42),\n",
    "    'XGBClassifier': xgb.XGBClassifier(random_state=42)\n",
    "}\n",
    "    \n",
    "scoring ='recall'\n",
    "# Loop through different meta-models\n",
    "for name, meta_model in meta_models.items():\n",
    "    stacking_model = StackingClassifier(estimators=base_models, final_estimator=meta_model, cv=5)\n",
    "    \n",
    "    # Cross-validation\n",
    "    cv_scores = cross_val_score(stacking_model, X_train, y_train, cv=5, scoring=scoring)\n",
    "    \n",
    "    print(f\"{name} Meta-Model - Mean CV {scoring}: {cv_scores.mean():.4f}\")"
   ]
  },
  {
   "cell_type": "code",
   "execution_count": 125,
   "metadata": {
    "execution": {
     "iopub.execute_input": "2024-09-23T09:31:20.852588Z",
     "iopub.status.busy": "2024-09-23T09:31:20.852152Z",
     "iopub.status.idle": "2024-09-23T09:37:50.324001Z",
     "shell.execute_reply": "2024-09-23T09:37:50.322866Z",
     "shell.execute_reply.started": "2024-09-23T09:31:20.852551Z"
    }
   },
   "outputs": [
    {
     "name": "stdout",
     "output_type": "stream",
     "text": [
      "Best Parameters: {'final_estimator__C': 0.01, 'final_estimator__solver': 'liblinear'}\n",
      "Training Classification Report:\n",
      "              precision    recall  f1-score   support\n",
      "\n",
      "           0       0.91      0.91      0.91       439\n",
      "           1       0.88      0.88      0.88       329\n",
      "\n",
      "    accuracy                           0.90       768\n",
      "   macro avg       0.89      0.89      0.89       768\n",
      "weighted avg       0.90      0.90      0.90       768\n",
      "\n",
      "Testing Classification Report:\n",
      "              precision    recall  f1-score   support\n",
      "\n",
      "           0       0.83      0.82      0.83       110\n",
      "           1       0.72      0.74      0.73        69\n",
      "\n",
      "    accuracy                           0.79       179\n",
      "   macro avg       0.78      0.78      0.78       179\n",
      "weighted avg       0.79      0.79      0.79       179\n",
      "\n"
     ]
    }
   ],
   "source": [
    "# Hyperparameter tuning for Logistic Regression as the meta-model\n",
    "param_grid = {\n",
    "    'final_estimator__C': [0.01, 0.1, 1, 10],\n",
    "    'final_estimator__solver': ['liblinear', 'lbfgs']\n",
    "}\n",
    "stacking_model = StackingClassifier(estimators=base_models, final_estimator=LogisticRegression(random_state=42), cv=5)\n",
    "\n",
    "grid_search = GridSearchCV(estimator=stacking_model, param_grid=param_grid, cv=5, scoring='recall')\n",
    "grid_search.fit(X_train, y_train)\n",
    "\n",
    "print(\"Best Parameters:\", grid_search.best_params_)\n",
    "\n",
    "# Get the best model\n",
    "best_model_ensemblestacking = grid_search.best_estimator_\n",
    "\n",
    "# Predict on the training set\n",
    "y_train_pred = best_model_ensemblestacking.predict(X_train)\n",
    "\n",
    "# Predict on the test set\n",
    "y_test_pred = best_model_ensemblestacking.predict(X_test)\n",
    "\n",
    "# Classification report for training set\n",
    "print(\"Training Classification Report:\")\n",
    "print(classification_report(y_train, y_train_pred))\n",
    "\n",
    "# Classification report for testing set\n",
    "print(\"Testing Classification Report:\")\n",
    "print(classification_report(y_test, y_test_pred))"
   ]
  },
  {
   "cell_type": "code",
   "execution_count": null,
   "metadata": {},
   "outputs": [],
   "source": []
  },
  {
   "cell_type": "markdown",
   "metadata": {},
   "source": [
    "## Explaining the approach\n",
    "\n",
    "1. Importing neccesary libraries\n",
    "2. Loading the dataset\n",
    "3. Data preprocessing: Handle missing values, Checking for the Outliers, checking for the outliers and treating them by using the concept of Winsorization, dropping irrelevant columns.\n",
    "4. Converting categorical variables into numerical variables using one-hot encoding,label encoding\n",
    "5. Splitting the dataset into features (X) and target (y) variables.\n",
    "6. Using the following Algorithm to create model:-\n",
    "\n",
    "\n",
    "(I) Building Logistic Regression model\n",
    "\n",
    "    a) Feature selection by determining coefficient \n",
    "    b) Feature selection using RFE(Recursive Feature Elemination)\n",
    "    c) removing removing Fare, Embarked_Q, and Age, as they show the least importance in both the coefficient and RFE rankings. \n",
    "    d) Applying oversampling using SMOTE due to class imbalance\n",
    "    e) Defining the adjusted parameter grid,perform grid search with the refined parameter grid, Fit grid search, generating the classification reports.\n",
    "    \n",
    "\n",
    "(II) Building Decision Tree Model\n",
    "\n",
    "    a) Calculating Feature importances decision_tree.feature_importances_\n",
    "    b) Calculating Feature ranking using RFE(Recursive Feature Elemination)\n",
    "    c) Using Sex_male, Age, Fare, and Pclass  for the model based on both feature importance and RFE ranking.\n",
    "    d) Applying oversampling using SMOTE due to class imbalance\n",
    "    e) Performing GridSearchCV to hyper tune the parameters.\n",
    "    f) Perform grid_search.fit\n",
    "    g) Generating Classification report.\n",
    "    h) Saving the model using pickle.\n",
    "    i) Adjusting the decision threshold to improve the model performance.\n",
    "    \n",
    "\n",
    "(III) Building Random Forest Model\n",
    "\n",
    "    a) Performing feature selection using Elbow Method to determine the optimal number of features\n",
    "    b) Performing feature selection using RECURSIVE FEATURE ELEMINATION WITH CROSS-VALIDATION(RFECV)\n",
    "    c)Using optimal number of features to Split the data into training and testing sets.\n",
    "    d)Performing oversampling SMOTE due to class imbalance\n",
    "    e)Performing RandomizedSearchCV to hypertune the parameters\n",
    "    f)Generating the classification reports for training and test set\n",
    "\n",
    "\n",
    "(IV) BaggingClassifier\n",
    "\n",
    "    a) Performing feature selection using Elbow Method to determine the optimal number of features\n",
    "    b) Performing feature selection using RECURSIVE FEATURE ELEMINATION WITH CROSS-VALIDATION(RFECV)\n",
    "    c) Using optimal number of features to Split the data into training and testing sets.\n",
    "    d)Performing oversampling SMOTE due to class imbalance\n",
    "    e)Performing RandomizedSearchCV to hypertune the parameters\n",
    "    f)Generating the classification reports for training and test set\n",
    "\n",
    "\n",
    "(V)Adaptive Boosting (AdaBoost)\n",
    "\n",
    "    a)Performing feature selection using Elbow Method to determine the optimal number of features\n",
    "    b) Performing feature selection using RECURSIVE FEATURE ELEMINATION WITH CROSS-VALIDATION(RFECV)\n",
    "    c)Performing oversampling SMOTE due to class imbalance\n",
    "    d)Performing RandomizedSearchCV to hypertune the parameters\n",
    "    e)Generating the classification reports for training and test set\n",
    "\n",
    "\n",
    "(VI)Adaptive Boosting (AdaBoost)\n",
    "\n",
    "    a)Performing feature selection using Elbow Method to determine the optimal number of features\n",
    "    b)Performing feature selection using RECURSIVE FEATURE ELEMINATION WITH CROSS-VALIDATION(RFECV)\n",
    "    c)Performing oversampling SMOTE due to class imbalance\n",
    "    d)Performing RandomizedSearchCV to hypertune the parameters\n",
    "    e)Generating the classification reports for training and test set\n",
    "    \n",
    "\n",
    "(VII)SUPPORT VECTOR MACHINE(SVM)\n",
    "\n",
    "    a)Peforming GridSearchCV for SVC kernal selection\n",
    "    b)Performing feature selection using RECURSIVE FEATURE ELEMINATION WITH CROSS-VALIDATION(RFECV)\n",
    "    c)Performing oversampling SMOTE due to class imbalance\n",
    "    d)Performing RandomizedSearchCV to hypertune the parameters\n",
    "    e)Generating the classification reports for training and test set\n",
    "\n",
    "\n",
    "(VIII)Ensemble Stacking\n",
    "\n",
    "    a)Determining the best meta model's algorithm through cross validation\n",
    "    b)Hyperparameter tuning for Logistic Regression as the meta-model\n",
    "    c)e)Generating the classification reports for training and test set"
   ]
  },
  {
   "cell_type": "markdown",
   "metadata": {},
   "source": [
    "## Logistic Regression:\n",
    "\n",
    "Strengths\n",
    "\n",
    "    Interpretability\n",
    "    Efficient and Fast\n",
    "    Well-suited for Linearly Separable Data\n",
    "    Handles Binary Classification Well\n",
    "    Probabilistic Output\n",
    "    Works Well with Categorical Data\n",
    "\n",
    "Weaknesses\n",
    "    \n",
    "    Linear Decision Boundary\n",
    "    Poor Performance with Non-linear Data\n",
    "    Sensitive to Multicollinearity\n",
    "    Requires Feature Engineering\n",
    "    Not Suitable for High-dimensional Data\n",
    "    No Built-in Feature Selection\n",
    "    Assumes Independence of Features\n",
    "    Logistic regression can struggle with imbalanced datasets"
   ]
  },
  {
   "cell_type": "markdown",
   "metadata": {},
   "source": [
    "## Decision Tree\n",
    "\n",
    "Strengths\n",
    "\n",
    "    Decision trees are easy to understand and interpret.\n",
    "    Decision trees don’t require the input features to be scaled\n",
    "    Decision trees can capture non-linear relationships between features and the target variable\n",
    "    They provide a ranking of feature importance, helping to understand which features contribute the most to predictions.\n",
    "    Decision trees can handle both categorical and numerical data effectively\n",
    "    Since splits in the tree are based on feature values, decision trees are relatively robust to outliers in the data\n",
    "    Non-parametric Model : Decision trees do not make assumptions about the distribution of the data, making them versatile for various types of problems.\n",
    "    \n",
    "Weaknesses\n",
    "\n",
    "    Decision trees are prone to overfitting\n",
    "    Decision trees can be quite unstable because small changes in the data can lead to completely different tree structures\n",
    "    Decision trees can become biased towards classes that are more frequent in the data\n",
    "    If the dataset is small or has little variation, decision trees may not capture meaningful patterns effectively, leading to underfitting.\n",
    "    The predictions of decision trees are not smooth or continuous, as they rely on discrete splits. This makes them less suitable for regression tasks where smoother curves are needed.\n",
    "    In datasets with many features, decision trees may struggle,"
   ]
  },
  {
   "cell_type": "markdown",
   "metadata": {},
   "source": [
    "## Random Forest \n",
    "\n",
    "Strengths\n",
    "\n",
    "    highly resistant to overfitting compared to a single decision tree.\n",
    "    resilient to outliers because each decision tree is trained on a subset of the data,\n",
    "    ranking of feature importance, which can be very useful in understanding which features are the most influential in making predictions\n",
    "    Random Forest does not assume any underlying distribution in the data, making it suitable for complex, non-linear relationships.\n",
    "    Random Forest tends to perform well with large datasets and high-dimensional data, especially for classification tasks.\n",
    "    Through its bootstrapping method (bagging) and averaging predictions from different trees, Random Forest prevents overfitting, especially in large datasets.\n",
    "    Random Forest can handle both classification and regression tasks and is capable of working well with both categorical and numerical data.\n",
    "    \n",
    " Weaknesses \n",
    " \n",
    "      One of the primary drawbacks of Random Forest is the lack of interpretability. \n",
    "      Random Forest requires considerable computational power and memory due to the need to build and maintain multiple decision trees.\n",
    "      Tendency to Overfit with Noisy Data\n",
    "      Less Effective for Small Datasets\n",
    "      It may give biased results when dealing with high cardinality categorical features or when the data is not scaled. \n",
    "      the prediction phase can be slow compared to simpler models.\n",
    "      Tuning hyperparameters such as the number of trees, maximum depth, and number of features to consider at each split can be challenging and computationally expensive. Poor tuning can lead to suboptimal performance.\n",
    "    "
   ]
  },
  {
   "cell_type": "markdown",
   "metadata": {},
   "source": [
    "## Bagging Classifier\n",
    "\n",
    "Strengths\n",
    "\n",
    "    Bagging (Bootstrap Aggregating) reduces the variance of individual models by training multiple base models on random subsets of the training data.It prevents overfitting.\n",
    "    Bagging allows for parallel model training since each base model is trained independently on different subsets of data. \n",
    "    By aggregating the results of multiple base models, Bagging Classifier generally achieves better accuracy than any individual model by leveraging the \"wisdom of the crowd\" effect.\n",
    "    Bagging works well when the dataset contains noisy data or outliers\n",
    "    Models like decision trees are prone to high variance, but bagging can greatly improve their performance by reducing overfitting.\n",
    "   \n",
    "Weaknesses\n",
    "\n",
    "    For models with low variance, such as logistic regression or support vector machines, bagging may not provide significant improvement and can even degrade performance slightly.\n",
    "    Make the overall model hard to interpret.\n",
    "    the training process can be computationally expensive, especially for large datasets or when each base model is complex.\n",
    "    Bagging is not well-suited for small datasets because the base models are trained on bootstrapped subsets of the original data.\n",
    "    While bagging reduces overfitting by averaging, it may lead to underfitting in some cases, especially when the base models are already low-variance models\n",
    "    Complexity in Hyperparameter Tuning"
   ]
  },
  {
   "cell_type": "markdown",
   "metadata": {},
   "source": [
    "## Adaptive Boosting\n",
    "\n",
    "strenghs\n",
    "\n",
    "    AdaBoost is designed to combine multiple weak learners (often decision trees with one level, known as decision stumps) into a strong ensemble model.\n",
    "    AdaBoost can work with many types of base models.\n",
    "    AdaBoost is relatively resistant to overfitting when used with simple base learners like decision stumps\n",
    "    AdaBoost can provide feature importance measures based on how frequently and how early in the process each feature is selected for splitting.\n",
    "    AdaBoost typically requires fewer hyperparameter adjustments compared to other ensemble methods\n",
    "    \n",
    "Weaknesses\n",
    "    \n",
    "    Because AdaBoost gives more weight to misclassified examples at each iteration, noisy data and outliers can have a disproportionate effect, leading to reduced model performance and overfitting to noise.\n",
    "    Requires High-quality Base Learners\n",
    "    Slow Convergence with Large Datasets\n",
    "    Difficulty with High-dimensional Data\n",
    "    "
   ]
  },
  {
   "cell_type": "markdown",
   "metadata": {},
   "source": [
    "## SUPPORT VECTOR MACHINE(SVM)\n",
    "\n",
    "strenghs\n",
    "\n",
    "    SVM is highly effective when the number of features (dimensions) is large relative to the number of data points. It works well in both low and high-dimensional spaces.\n",
    "    SVM uses a regularization parameter (C) to prevent overfitting.\n",
    "     kernel trick, SVM can handle non-linearly separable data by transforming it into a higher-dimensional space where a linear separator can be applied\n",
    "     SVM can effectively model complex decision boundaries, especially when combined with non-linear kernels.\n",
    "     SVM is robust to outliers because it focuses on the support vectors, which are the data points that are most difficult to classify\n",
    "     SVM allows the use of custom kernels, making it adaptable to different types of data\n",
    "     \n",
    "Weaknesses\n",
    "\n",
    "    Computationally Expensive for Large Datasets\n",
    "    Sensitive to Parameter Tuning\n",
    "    Limited Interpretability\n",
    "    Not Ideal for Imbalanced Data\n",
    "    No Probabilistic Interpretation\n",
    "    Kernel Choice Can Be Challenging"
   ]
  },
  {
   "cell_type": "markdown",
   "metadata": {},
   "source": [
    "## Ensemble Stacking\n",
    "\n",
    "strenghs\n",
    "\n",
    "    Stacking leverages the strengths of different algorithms by combining their predictions. This approach often results in better performance than using a single model.\n",
    "    Different models capture different aspects of the data\n",
    "    This flexibility allows you to choose models that perform best for your specific problem.\n",
    "    Stacking is especially useful in complex datasets with non-linear relationships and high-dimensional data. By combining different models, it can capture patterns that a single model might miss.\n",
    "    By relying on the combined predictions of multiple models, stacking reduces the risk of overfitting, especially if the individual models overfit in different ways\n",
    "    The meta-model (or level-1 model) can be tuned separately to adjust the way it combines the base models' predictions, allowing further optimization.\n",
    "    \n",
    "Weaknesses\n",
    "\n",
    "    Stacking involves multiple models, and as the number of base learners increases, so does the complexity of the model. This can make it harder to debug, interpret, and understand compared to simpler models.\n",
    "    Since you are training several models, stacking can be computationally expensive, especially with large datasets and multiple cross-validation folds.\n",
    "    While stacking is meant to reduce overfitting by combining models, if the base models are highly correlated or if the meta-model is overfitted, stacking can lead to overfitting.\n",
    "    There’s a risk of data leakage if the meta-model has access to the true target labels during training. This can occur if the stacking process isn't properly cross-validated.\n",
    "    Stacking models are typically harder to interpret than individual models.\n",
    "    Tuning a stacking ensemble is more complex than tuning a single model\n",
    "    The effectiveness of stacking depends on the choice of the meta-model. "
   ]
  }
 ],
 "metadata": {
  "kaggle": {
   "accelerator": "none",
   "dataSources": [
    {
     "datasetId": 5649221,
     "sourceId": 9325044,
     "sourceType": "datasetVersion"
    },
    {
     "datasetId": 5649305,
     "sourceId": 9325163,
     "sourceType": "datasetVersion"
    }
   ],
   "dockerImageVersionId": 30761,
   "isGpuEnabled": false,
   "isInternetEnabled": true,
   "language": "python",
   "sourceType": "notebook"
  },
  "kernelspec": {
   "display_name": "Python 3 (ipykernel)",
   "language": "python",
   "name": "python3"
  },
  "language_info": {
   "codemirror_mode": {
    "name": "ipython",
    "version": 3
   },
   "file_extension": ".py",
   "mimetype": "text/x-python",
   "name": "python",
   "nbconvert_exporter": "python",
   "pygments_lexer": "ipython3",
   "version": "3.12.4"
  }
 },
 "nbformat": 4,
 "nbformat_minor": 4
}
